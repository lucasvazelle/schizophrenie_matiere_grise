{
 "cells": [
  {
   "cell_type": "code",
   "execution_count": 9,
   "metadata": {},
   "outputs": [],
   "source": [
    "!pip install pandas numpy scikit-learn statsmodels"
   ]
  },
  {
   "cell_type": "code",
   "execution_count": 30,
   "metadata": {},
   "outputs": [],
   "source": [
    "import pandas as pd\n",
    "import os\n",
    "from sklearn.linear_model import LogisticRegression\n",
    "from sklearn.metrics import mean_squared_error\n",
    "import numpy as np\n",
    "import statsmodels.api as sm\n",
    "from sklearn.metrics import recall_score\n",
    "from sklearn.metrics import roc_auc_score\n",
    "from sklearn.metrics import precision_score\n",
    "from sklearn.manifold import MDS\n",
    "from sklearn.metrics import pairwise_distances\n",
    "from sklearn import metrics\n",
    "import matplotlib.pyplot as plt\n",
    "\n"
   ]
  },
  {
   "cell_type": "markdown",
   "metadata": {},
   "source": [
    "# Import des données "
   ]
  },
  {
   "cell_type": "code",
   "execution_count": 2,
   "metadata": {},
   "outputs": [],
   "source": [
    "\n",
    "participants_train = pd.read_csv(os.path.join(\"data\", \"train_participants.csv\" ))\n",
    "participants_train[\"set\"] = 'train'\n",
    "participants_test = pd.read_csv(os.path.join(\"data\", \"test_participants.csv\" ))\n",
    "participants_test[\"set\"] = 'test'\n",
    "participants = pd.concat([participants_train, participants_test])"
   ]
  },
  {
   "cell_type": "code",
   "execution_count": 11,
   "metadata": {},
   "outputs": [],
   "source": [
    "rois_train = pd.read_csv(os.path.join(\"data\", \"train_rois.csv\" ))\n",
    "rois_test = pd.read_csv(os.path.join(\"data\", \"test_rois.csv\" ))\n",
    "rois = pd.concat([rois_train, rois_test])"
   ]
  },
  {
   "cell_type": "markdown",
   "metadata": {},
   "source": [
    "# Exploration"
   ]
  },
  {
   "cell_type": "code",
   "execution_count": 12,
   "metadata": {},
   "outputs": [
    {
     "data": {
      "text/html": [
       "<div>\n",
       "<style scoped>\n",
       "    .dataframe tbody tr th:only-of-type {\n",
       "        vertical-align: middle;\n",
       "    }\n",
       "\n",
       "    .dataframe tbody tr th {\n",
       "        vertical-align: top;\n",
       "    }\n",
       "\n",
       "    .dataframe thead th {\n",
       "        text-align: right;\n",
       "    }\n",
       "</style>\n",
       "<table border=\"1\" class=\"dataframe\">\n",
       "  <thead>\n",
       "    <tr style=\"text-align: right;\">\n",
       "      <th></th>\n",
       "      <th>participant_id</th>\n",
       "      <th>session</th>\n",
       "      <th>run</th>\n",
       "      <th>TIV</th>\n",
       "      <th>CSF_Vol</th>\n",
       "      <th>GM_Vol</th>\n",
       "      <th>WM_Vol</th>\n",
       "      <th>l3thVen_GM_Vol</th>\n",
       "      <th>r3thVen_GM_Vol</th>\n",
       "      <th>l4thVen_GM_Vol</th>\n",
       "      <th>...</th>\n",
       "      <th>lSupParLo_CSF_Vol</th>\n",
       "      <th>rSupParLo_CSF_Vol</th>\n",
       "      <th>lSupTemGy_CSF_Vol</th>\n",
       "      <th>rSupTemGy_CSF_Vol</th>\n",
       "      <th>lTemPo_CSF_Vol</th>\n",
       "      <th>rTemPo_CSF_Vol</th>\n",
       "      <th>lInfFroAngGy_CSF_Vol</th>\n",
       "      <th>rInfFroAngGy_CSF_Vol</th>\n",
       "      <th>lTemTraGy_CSF_Vol</th>\n",
       "      <th>rTemTraGy_CSF_Vol</th>\n",
       "    </tr>\n",
       "  </thead>\n",
       "  <tbody>\n",
       "    <tr>\n",
       "      <th>0</th>\n",
       "      <td>CH7098a</td>\n",
       "      <td>V1</td>\n",
       "      <td>1</td>\n",
       "      <td>1712.357084</td>\n",
       "      <td>375.529152</td>\n",
       "      <td>747.089338</td>\n",
       "      <td>586.391159</td>\n",
       "      <td>0.063950</td>\n",
       "      <td>0.058779</td>\n",
       "      <td>0.062019</td>\n",
       "      <td>...</td>\n",
       "      <td>7.488130</td>\n",
       "      <td>8.622047</td>\n",
       "      <td>2.465118</td>\n",
       "      <td>2.656249</td>\n",
       "      <td>6.584050</td>\n",
       "      <td>6.213031</td>\n",
       "      <td>1.787291</td>\n",
       "      <td>2.043806</td>\n",
       "      <td>0.406808</td>\n",
       "      <td>0.403986</td>\n",
       "    </tr>\n",
       "    <tr>\n",
       "      <th>1</th>\n",
       "      <td>A00024535</td>\n",
       "      <td>V1</td>\n",
       "      <td>1</td>\n",
       "      <td>1700.601735</td>\n",
       "      <td>399.493745</td>\n",
       "      <td>721.128411</td>\n",
       "      <td>579.446172</td>\n",
       "      <td>0.047534</td>\n",
       "      <td>0.044989</td>\n",
       "      <td>0.053391</td>\n",
       "      <td>...</td>\n",
       "      <td>9.022685</td>\n",
       "      <td>8.544778</td>\n",
       "      <td>2.439144</td>\n",
       "      <td>2.533854</td>\n",
       "      <td>6.849889</td>\n",
       "      <td>6.730247</td>\n",
       "      <td>1.945829</td>\n",
       "      <td>2.325559</td>\n",
       "      <td>0.312825</td>\n",
       "      <td>0.426095</td>\n",
       "    </tr>\n",
       "    <tr>\n",
       "      <th>2</th>\n",
       "      <td>CC7563</td>\n",
       "      <td>V1</td>\n",
       "      <td>1</td>\n",
       "      <td>1449.327365</td>\n",
       "      <td>220.825294</td>\n",
       "      <td>661.028439</td>\n",
       "      <td>566.500051</td>\n",
       "      <td>0.118209</td>\n",
       "      <td>0.088380</td>\n",
       "      <td>0.069014</td>\n",
       "      <td>...</td>\n",
       "      <td>4.219249</td>\n",
       "      <td>4.258448</td>\n",
       "      <td>1.394717</td>\n",
       "      <td>1.773845</td>\n",
       "      <td>3.537319</td>\n",
       "      <td>3.663182</td>\n",
       "      <td>1.007794</td>\n",
       "      <td>0.856915</td>\n",
       "      <td>0.162711</td>\n",
       "      <td>0.193604</td>\n",
       "    </tr>\n",
       "    <tr>\n",
       "      <th>3</th>\n",
       "      <td>CC3945</td>\n",
       "      <td>V1</td>\n",
       "      <td>1</td>\n",
       "      <td>1184.699000</td>\n",
       "      <td>201.579922</td>\n",
       "      <td>560.051329</td>\n",
       "      <td>423.016129</td>\n",
       "      <td>0.102882</td>\n",
       "      <td>0.084044</td>\n",
       "      <td>0.044932</td>\n",
       "      <td>...</td>\n",
       "      <td>3.678205</td>\n",
       "      <td>3.383453</td>\n",
       "      <td>1.346163</td>\n",
       "      <td>1.897148</td>\n",
       "      <td>3.623939</td>\n",
       "      <td>3.865042</td>\n",
       "      <td>1.237802</td>\n",
       "      <td>1.206910</td>\n",
       "      <td>0.218570</td>\n",
       "      <td>0.204934</td>\n",
       "    </tr>\n",
       "    <tr>\n",
       "      <th>4</th>\n",
       "      <td>CH8853b</td>\n",
       "      <td>V1</td>\n",
       "      <td>1</td>\n",
       "      <td>1518.198466</td>\n",
       "      <td>291.544632</td>\n",
       "      <td>705.384606</td>\n",
       "      <td>520.807601</td>\n",
       "      <td>0.067550</td>\n",
       "      <td>0.065347</td>\n",
       "      <td>0.047114</td>\n",
       "      <td>...</td>\n",
       "      <td>7.231215</td>\n",
       "      <td>7.043181</td>\n",
       "      <td>2.161728</td>\n",
       "      <td>2.069372</td>\n",
       "      <td>3.730283</td>\n",
       "      <td>4.239948</td>\n",
       "      <td>1.418323</td>\n",
       "      <td>1.626568</td>\n",
       "      <td>0.278396</td>\n",
       "      <td>0.292313</td>\n",
       "    </tr>\n",
       "  </tbody>\n",
       "</table>\n",
       "<p>5 rows × 291 columns</p>\n",
       "</div>"
      ],
      "text/plain": [
       "  participant_id session  run          TIV     CSF_Vol      GM_Vol  \\\n",
       "0        CH7098a      V1    1  1712.357084  375.529152  747.089338   \n",
       "1      A00024535      V1    1  1700.601735  399.493745  721.128411   \n",
       "2         CC7563      V1    1  1449.327365  220.825294  661.028439   \n",
       "3         CC3945      V1    1  1184.699000  201.579922  560.051329   \n",
       "4        CH8853b      V1    1  1518.198466  291.544632  705.384606   \n",
       "\n",
       "       WM_Vol  l3thVen_GM_Vol  r3thVen_GM_Vol  l4thVen_GM_Vol  ...  \\\n",
       "0  586.391159        0.063950        0.058779        0.062019  ...   \n",
       "1  579.446172        0.047534        0.044989        0.053391  ...   \n",
       "2  566.500051        0.118209        0.088380        0.069014  ...   \n",
       "3  423.016129        0.102882        0.084044        0.044932  ...   \n",
       "4  520.807601        0.067550        0.065347        0.047114  ...   \n",
       "\n",
       "   lSupParLo_CSF_Vol  rSupParLo_CSF_Vol  lSupTemGy_CSF_Vol  rSupTemGy_CSF_Vol  \\\n",
       "0           7.488130           8.622047           2.465118           2.656249   \n",
       "1           9.022685           8.544778           2.439144           2.533854   \n",
       "2           4.219249           4.258448           1.394717           1.773845   \n",
       "3           3.678205           3.383453           1.346163           1.897148   \n",
       "4           7.231215           7.043181           2.161728           2.069372   \n",
       "\n",
       "   lTemPo_CSF_Vol  rTemPo_CSF_Vol  lInfFroAngGy_CSF_Vol  rInfFroAngGy_CSF_Vol  \\\n",
       "0        6.584050        6.213031              1.787291              2.043806   \n",
       "1        6.849889        6.730247              1.945829              2.325559   \n",
       "2        3.537319        3.663182              1.007794              0.856915   \n",
       "3        3.623939        3.865042              1.237802              1.206910   \n",
       "4        3.730283        4.239948              1.418323              1.626568   \n",
       "\n",
       "   lTemTraGy_CSF_Vol  rTemTraGy_CSF_Vol  \n",
       "0           0.406808           0.403986  \n",
       "1           0.312825           0.426095  \n",
       "2           0.162711           0.193604  \n",
       "3           0.218570           0.204934  \n",
       "4           0.278396           0.292313  \n",
       "\n",
       "[5 rows x 291 columns]"
      ]
     },
     "execution_count": 12,
     "metadata": {},
     "output_type": "execute_result"
    }
   ],
   "source": [
    "rois_train.head(5)"
   ]
  },
  {
   "cell_type": "code",
   "execution_count": 14,
   "metadata": {},
   "outputs": [
    {
     "data": {
      "text/plain": [
       "513"
      ]
     },
     "execution_count": 14,
     "metadata": {},
     "output_type": "execute_result"
    }
   ],
   "source": [
    "len(rois)"
   ]
  },
  {
   "cell_type": "markdown",
   "metadata": {},
   "source": [
    "# Traitement table "
   ]
  },
  {
   "cell_type": "code",
   "execution_count": 5,
   "metadata": {},
   "outputs": [
    {
     "name": "stdout",
     "output_type": "stream",
     "text": [
      "   sex   age          TIV     CSF_Vol      GM_Vol      WM_Vol    set  \\\n",
      "0  0.0  20.0  1712.357084  375.529152  747.089338  586.391159  train   \n",
      "1  0.0  26.0  1700.601735  399.493745  721.128411  579.446172  train   \n",
      "2  1.0  28.0  1449.327365  220.825294  661.028439  566.500051  train   \n",
      "3  1.0  21.0  1184.699000  201.579922  560.051329  423.016129  train   \n",
      "4  1.0  21.0  1518.198466  291.544632  705.384606  520.807601  train   \n",
      "\n",
      "   young_adult  adolescent  schizophrenia  site_NU  site_WUSTL  \n",
      "0            1           0              1        1           0  \n",
      "1            0           0              0        0           0  \n",
      "2            0           0              0        0           1  \n",
      "3            1           0              0        0           1  \n",
      "4            1           0              0        1           0  \n"
     ]
    }
   ],
   "source": [
    "\n",
    "# Supprimer les colonnes \"session\", \"study\", \"participant_id\"\n",
    "participants_traitee= participants.drop(columns=[\"session\", \"study\", \"participant_id\"])\n",
    "\n",
    "# Créer une nouvelle colonne binaire pour les adolescents et jeunes adultes\n",
    "participants_traitee[\"young_adult\"] = participants_traitee[\"age\"].apply(lambda x: 1 if x <= 25 and  x >= 18 else 0)\n",
    "participants_traitee[\"adolescent\"] = participants_traitee[\"age\"].apply(lambda x: 1 if x < 18 and  x >= 10 else 0)\n",
    "\n",
    "# Binariser la variable \"diagnosis\" : 1 si \"schizophrenia\", 0 sinon\n",
    "participants_traitee[\"schizophrenia\"] = participants_traitee[\"diagnosis\"].apply(lambda x: 1 if x == \"schizophrenia\" else 0)\n",
    "participants_traitee= participants_traitee.drop(columns=[\"diagnosis\"])\n",
    "\n",
    "#Encodage de \"site\" en variables indicatrices (dummy variables)\n",
    "participants_traitee = pd.get_dummies(participants_traitee, columns=[\"site\"], drop_first=True)\n",
    "\n",
    "\n",
    "print(participants_traitee.head())"
   ]
  },
  {
   "cell_type": "code",
   "execution_count": 15,
   "metadata": {},
   "outputs": [],
   "source": [
    "rois_to_reduce_dimension = rois.loc[:, 'l3thVen_GM_Vol':]\n"
   ]
  },
  {
   "cell_type": "markdown",
   "metadata": {},
   "source": [
    "# Réduction de dimension"
   ]
  },
  {
   "cell_type": "markdown",
   "metadata": {},
   "source": [
    "## Multi-dimensional Scaling (MDS)"
   ]
  },
  {
   "cell_type": "code",
   "execution_count": 39,
   "metadata": {},
   "outputs": [
    {
     "name": "stdout",
     "output_type": "stream",
     "text": [
      "        city  Athens  Barcelona  Brussels  Calais\n",
      "0     Athens       0       3313      2963    3175\n",
      "1  Barcelona    3313          0      1318    1326\n",
      "2   Brussels    2963       1318         0     204\n",
      "3     Calais    3175       1326       204       0\n",
      "4  Cherbourg    3339       1294       583     460\n"
     ]
    }
   ],
   "source": [
    "try:\n",
    " url = '../datasets/eurodist.csv'\n",
    " df = pd.read_csv(url)\n",
    "except:\n",
    " url = 'https://github.com/duchesnay/pystatsml/raw/master/datasets/eurodist.csv'\n",
    " df = pd.read_csv(url)\n",
    " print(df.iloc[:5, :5])\n",
    "\n",
    "city = df[\"city\"]\n",
    "D = np.array(df.iloc[:, 1:]) # Distance matrix\n"
   ]
  },
  {
   "cell_type": "code",
   "execution_count": 40,
   "metadata": {},
   "outputs": [
    {
     "data": {
      "text/plain": [
       "array([[   0, 3313, 2963, 3175, 3339, 2762, 3276, 2610, 4485, 2977, 3030,\n",
       "        4532, 2753, 3949, 2865, 2282, 2179, 3000,  817, 3927, 1991],\n",
       "       [3313,    0, 1318, 1326, 1294, 1498, 2218,  803, 1172, 2018, 1490,\n",
       "        1305,  645,  636,  521, 1014, 1365, 1033, 1460, 2868, 1802],\n",
       "       [2963, 1318,    0,  204,  583,  206,  966,  677, 2256,  597,  172,\n",
       "        2084,  690, 1558, 1011,  925,  747,  285, 1511, 1616, 1175],\n",
       "       [3175, 1326,  204,    0,  460,  409, 1136,  747, 2224,  714,  330,\n",
       "        2052,  739, 1550, 1059, 1077,  977,  280, 1662, 1786, 1381],\n",
       "       [3339, 1294,  583,  460,    0,  785, 1545,  853, 2047, 1115,  731,\n",
       "        1827,  789, 1347, 1101, 1209, 1160,  340, 1794, 2196, 1588],\n",
       "       [2762, 1498,  206,  409,  785,    0,  760, 1662, 2436,  460,  269,\n",
       "        2290,  714, 1764, 1035,  911,  583,  465, 1497, 1403,  937],\n",
       "       [3276, 2218,  966, 1136, 1545,  760,    0, 1418, 3196,  460,  269,\n",
       "        2971, 1458, 2498, 1778, 1537, 1104, 1176, 2050,  650, 1455],\n",
       "       [2610,  803,  677,  747,  853, 1662, 1418,    0, 1975, 1118,  895,\n",
       "        1936,  158, 1439,  425,  328,  591,  513,  995, 2068, 1019],\n",
       "       [4485, 1172, 2256, 2224, 2047, 2436, 3196, 1975,    0, 2897, 2428,\n",
       "         676, 1817,  698, 1693, 2185, 2565, 1971, 2631, 3886, 2974],\n",
       "       [2977, 2018,  597,  714, 1115,  460,  460, 1118, 2897,    0,  550,\n",
       "        2671, 1159, 2198, 1479, 1238,  805,  877, 1751,  949, 1155],\n",
       "       [3030, 1490,  172,  330,  731,  269,  269,  895, 2428,  550,    0,\n",
       "        2280,  863, 1730, 1183, 1098,  851,  457, 1683, 1500, 1205],\n",
       "       [4532, 1305, 2084, 2052, 1827, 2290, 2971, 1936,  676, 2671, 2280,\n",
       "           0, 1178,  668, 1762, 2250, 2507, 1799, 2700, 3231, 2937],\n",
       "       [2753,  645,  690,  739,  789,  714, 1458,  158, 1817, 1159,  863,\n",
       "        1178,    0, 1281,  320,  328,  724,  471, 1048, 2108, 1157],\n",
       "       [3949,  636, 1558, 1550, 1347, 1764, 2498, 1439,  698, 2198, 1730,\n",
       "         668, 1281,    0, 1157, 1724, 2010, 1273, 2097, 3188, 2409],\n",
       "       [2865,  521, 1011, 1059, 1101, 1035, 1778,  425, 1693, 1479, 1183,\n",
       "        1762,  320, 1157,    0,  618, 1109,  792, 1011, 2428, 1363],\n",
       "       [2282, 1014,  925, 1077, 1209,  911, 1537,  328, 2185, 1238, 1098,\n",
       "        2250,  328, 1724,  618,    0,  331,  856,  586, 2187,  898],\n",
       "       [2179, 1365,  747,  977, 1160,  583, 1104,  591, 2565,  805,  851,\n",
       "        2507,  724, 2010, 1109,  331,    0,  821,  946, 1754,  428],\n",
       "       [3000, 1033,  285,  280,  340,  465, 1176,  513, 1971,  877,  457,\n",
       "        1799,  471, 1273,  792,  856,  821,    0, 1476, 1827, 1249],\n",
       "       [ 817, 1460, 1511, 1662, 1794, 1497, 2050,  995, 2631, 1751, 1683,\n",
       "        2700, 1048, 2097, 1011,  586,  946, 1476,    0, 2707, 1209],\n",
       "       [3927, 2868, 1616, 1786, 2196, 1403,  650, 2068, 3886,  949, 1500,\n",
       "        3231, 2108, 3188, 2428, 2187, 1754, 1827, 2707,    0, 2105],\n",
       "       [1991, 1802, 1175, 1381, 1588,  937, 1455, 1019, 2974, 1155, 1205,\n",
       "        2937, 1157, 2409, 1363,  898,  428, 1249, 1209, 2105,    0]],\n",
       "      dtype=int64)"
      ]
     },
     "execution_count": 40,
     "metadata": {},
     "output_type": "execute_result"
    }
   ],
   "source": [
    "D"
   ]
  },
  {
   "cell_type": "markdown",
   "metadata": {},
   "source": [
    "Choix arbitraire k=3"
   ]
  },
  {
   "cell_type": "code",
   "execution_count": 19,
   "metadata": {},
   "outputs": [],
   "source": [
    "# 1. Calculer la matrice de dissimilarité en utilisant la distance Euclidienne\n",
    "dissimilarity_matrix = pairwise_distances(rois_to_reduce_dimension, metric='euclidean')\n",
    "\n",
    "# 2. Appliquer MDS avec la matrice de dissimilarité\n",
    "mds = MDS(dissimilarity='precomputed', n_components=3, random_state=40, max_iter=3000, eps=1e-9)\n",
    "X = mds.fit_transform(dissimilarity_matrix)\n"
   ]
  },
  {
   "cell_type": "code",
   "execution_count": 21,
   "metadata": {},
   "outputs": [
    {
     "name": "stdout",
     "output_type": "stream",
     "text": [
      "(513, 3)\n"
     ]
    }
   ],
   "source": [
    "print(X.shape) "
   ]
  },
  {
   "cell_type": "code",
   "execution_count": 26,
   "metadata": {},
   "outputs": [
    {
     "data": {
      "image/png": "[encoded data removed]",
      "text/plain": [
       "<Figure size 576x432 with 1 Axes>"
      ]
     },
     "metadata": {
      "needs_background": "light"
     },
     "output_type": "display_data"
    }
   ],
   "source": [
    "theta = 80 * np.pi / 180.  # Angle de rotation en radians\n",
    "rot = np.array([[np.cos(theta), -np.sin(theta)],\n",
    "                [np.sin(theta), np.cos(theta)]])  # Matrice de rotation 2D\n",
    "\n",
    "Xr = np.dot(X[:, :2], rot)  # Appliquer la rotation aux deux premières dimensions\n",
    "\n",
    "# Appliquer le retournement de l'axe x\n",
    "Xr[:, 0] *= -1  # Inverser l'axe x\n",
    "\n",
    "# Tracer les points\n",
    "plt.figure(figsize=(8, 6))\n",
    "plt.scatter(Xr[:, 0], Xr[:, 1])\n",
    "plt.title(\"Projection des données avec MDS et rotation\")\n",
    "plt.xlabel(\"Dimension 1\")\n",
    "plt.ylabel(\"Dimension 2\")\n",
    "plt.show()"
   ]
  },
  {
   "cell_type": "code",
   "execution_count": 29,
   "metadata": {},
   "outputs": [
    {
     "name": "stdout",
     "output_type": "stream",
     "text": [
      "Stress pour chaque valeur de k :  [14094103.278661167, 1979394.1446834402, 774808.9028700036, 317615.52365383453]\n"
     ]
    },
    {
     "data": {
      "image/png": "[encoded data removed]",
      "text/plain": [
       "<Figure size 432x288 with 1 Axes>"
      ]
     },
     "metadata": {
      "needs_background": "light"
     },
     "output_type": "display_data"
    }
   ],
   "source": [
    "k_range = range(1, min(5, dissimilarity_matrix.shape[0]-1))  # Essayer k de 1 à min(5, nombre de points-1)\n",
    "\n",
    "# 3. Calculer le stress pour chaque valeur de k\n",
    "stress = [MDS(dissimilarity='precomputed', n_components=k,\n",
    "              random_state=42, max_iter=300, eps=1e-9).fit(dissimilarity_matrix).stress_ for k in k_range]\n",
    "\n",
    "# 4. Afficher les résultats\n",
    "print(\"Stress pour chaque valeur de k : \", stress)\n",
    "\n",
    "# 5. Tracer le stress en fonction de k\n",
    "plt.plot(k_range, stress, marker='o')\n",
    "plt.xlabel(\"k (nombre de composantes)\")\n",
    "plt.ylabel(\"Stress\")\n",
    "plt.title(\"Évolution du stress en fonction du nombre de composantes\")\n",
    "plt.show()"
   ]
  },
  {
   "cell_type": "markdown",
   "metadata": {},
   "source": [
    "## ISOMAP"
   ]
  },
  {
   "cell_type": "code",
   "execution_count": 33,
   "metadata": {},
   "outputs": [],
   "source": [
    "import matplotlib.pyplot as plt\n",
    "from mpl_toolkits.mplot3d import Axes3D\n",
    "from sklearn import manifold, datasets\n",
    "X, color = datasets.make_s_curve(1000, random_state=42)"
   ]
  },
  {
   "cell_type": "code",
   "execution_count": null,
   "metadata": {},
   "outputs": [],
   "source": [
    "isomap = manifold.Isomap(n_neighbors=10, n_components=2)\n",
    "X_isomap = isomap.fit_transform(X)"
   ]
  },
  {
   "cell_type": "markdown",
   "metadata": {},
   "source": [
    "## TSNE"
   ]
  },
  {
   "cell_type": "code",
   "execution_count": null,
   "metadata": {},
   "outputs": [],
   "source": [
    "tsne = manifold.TSNE(n_components=2, init='pca', random_state=0)\n",
    "X_tsne = tsne.fit_transform(X)"
   ]
  },
  {
   "cell_type": "code",
   "execution_count": null,
   "metadata": {},
   "outputs": [],
   "source": [
    " fig = plt.figure(figsize=(15, 5))\n",
    " plt.suptitle(\"Manifold Learning\", fontsize=14)\n",
    " ax = fig.add_subplot(131, projection='3d')\n",
    " ax.scatter(X[:, 0], X[:, 1], X[:, 2], c=color, cmap=plt.cm.Spectral)\n",
    " ax.view_init(4,-72)\n",
    " plt.title('2D \"S shape\" manifold in 3D')\n",
    " ax = fig.add_subplot(132)\n",
    " plt.scatter(X_isomap[:, 0], X_isomap[:, 1], c=color, cmap=plt.cm.Spectral)\n",
    " plt.title(\"Isomap\")\n",
    " plt.xlabel(\"First component\")\n",
    " plt.ylabel(\"Second component\")\n",
    " ax = fig.add_subplot(133)\n",
    " plt.scatter(X_tsne[:, 0], X_tsne[:, 1], c=color, cmap=plt.cm.Spectral)\n",
    " plt.title(\"t-SNE\")\n",
    " plt.xlabel(\"First component\")\n",
    " plt.ylabel(\"Second component\")\n",
    " plt.axis('tight')"
   ]
  }
 ],
 "metadata": {
  "kernelspec": {
   "display_name": "base",
   "language": "python",
   "name": "python3"
  },
  "language_info": {
   "codemirror_mode": {
    "name": "ipython",
    "version": 3
   },
   "file_extension": ".py",
   "mimetype": "text/x-python",
   "name": "python",
   "nbconvert_exporter": "python",
   "pygments_lexer": "ipython3",
   "version": "3.9.12"
  }
 },
 "nbformat": 4,
 "nbformat_minor": 2
}
