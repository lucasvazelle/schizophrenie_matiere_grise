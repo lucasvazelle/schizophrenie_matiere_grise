{
 "cells": [
  {
   "cell_type": "code",
   "execution_count": 9,
   "metadata": {},
   "outputs": [],
   "source": [
    "!pip install pandas numpy scikit-learn statsmodels"
   ]
  },
  {
   "cell_type": "code",
   "execution_count": 189,
   "metadata": {},
   "outputs": [],
   "source": [
    "import pandas as pd\n",
    "import os\n",
    "from sklearn.linear_model import LogisticRegression\n",
    "from sklearn.metrics import mean_squared_error\n",
    "import numpy as np\n",
    "import statsmodels.api as sm\n",
    "from sklearn.metrics import recall_score\n",
    "from sklearn.metrics import roc_auc_score\n",
    "from sklearn.metrics import precision_score\n",
    "from sklearn import metrics\n",
    "import matplotlib.pyplot as plt\n",
    "import numpy as np\n",
    "import matplotlib.pyplot as plt\n",
    "from sklearn.manifold import MDS, Isomap, TSNE\n",
    "from sklearn.metrics import pairwise_distances\n",
    "import seaborn as sns\n"
   ]
  },
  {
   "cell_type": "markdown",
   "metadata": {},
   "source": [
    "# Import des données "
   ]
  },
  {
   "cell_type": "code",
   "execution_count": 219,
   "metadata": {},
   "outputs": [],
   "source": [
    "participants_train = pd.read_csv(os.path.join(\"data\", \"train_participants.csv\" ))\n",
    "participants_train[\"set\"] = 'train'\n",
    "participants_test = pd.read_csv(os.path.join(\"data\", \"test_participants.csv\" ))\n",
    "participants_test[\"set\"] = 'test'\n",
    "participants = pd.concat([participants_train, participants_test])"
   ]
  },
  {
   "cell_type": "code",
   "execution_count": 134,
   "metadata": {},
   "outputs": [],
   "source": [
    "rois_train = pd.read_csv(os.path.join(\"data\", \"train_rois.csv\" ))\n",
    "rois_train[\"set\"] = 'train'\n",
    "rois_test = pd.read_csv(os.path.join(\"data\", \"test_rois.csv\" ))\n",
    "rois_test[\"set\"] = 'test'\n",
    "rois = pd.concat([rois_train, rois_test])"
   ]
  },
  {
   "cell_type": "markdown",
   "metadata": {},
   "source": [
    "# Exploration"
   ]
  },
  {
   "cell_type": "code",
   "execution_count": 12,
   "metadata": {},
   "outputs": [
    {
     "data": {
      "text/html": [
       "<div>\n",
       "<style scoped>\n",
       "    .dataframe tbody tr th:only-of-type {\n",
       "        vertical-align: middle;\n",
       "    }\n",
       "\n",
       "    .dataframe tbody tr th {\n",
       "        vertical-align: top;\n",
       "    }\n",
       "\n",
       "    .dataframe thead th {\n",
       "        text-align: right;\n",
       "    }\n",
       "</style>\n",
       "<table border=\"1\" class=\"dataframe\">\n",
       "  <thead>\n",
       "    <tr style=\"text-align: right;\">\n",
       "      <th></th>\n",
       "      <th>participant_id</th>\n",
       "      <th>session</th>\n",
       "      <th>run</th>\n",
       "      <th>TIV</th>\n",
       "      <th>CSF_Vol</th>\n",
       "      <th>GM_Vol</th>\n",
       "      <th>WM_Vol</th>\n",
       "      <th>l3thVen_GM_Vol</th>\n",
       "      <th>r3thVen_GM_Vol</th>\n",
       "      <th>l4thVen_GM_Vol</th>\n",
       "      <th>...</th>\n",
       "      <th>lSupParLo_CSF_Vol</th>\n",
       "      <th>rSupParLo_CSF_Vol</th>\n",
       "      <th>lSupTemGy_CSF_Vol</th>\n",
       "      <th>rSupTemGy_CSF_Vol</th>\n",
       "      <th>lTemPo_CSF_Vol</th>\n",
       "      <th>rTemPo_CSF_Vol</th>\n",
       "      <th>lInfFroAngGy_CSF_Vol</th>\n",
       "      <th>rInfFroAngGy_CSF_Vol</th>\n",
       "      <th>lTemTraGy_CSF_Vol</th>\n",
       "      <th>rTemTraGy_CSF_Vol</th>\n",
       "    </tr>\n",
       "  </thead>\n",
       "  <tbody>\n",
       "    <tr>\n",
       "      <th>0</th>\n",
       "      <td>CH7098a</td>\n",
       "      <td>V1</td>\n",
       "      <td>1</td>\n",
       "      <td>1712.357084</td>\n",
       "      <td>375.529152</td>\n",
       "      <td>747.089338</td>\n",
       "      <td>586.391159</td>\n",
       "      <td>0.063950</td>\n",
       "      <td>0.058779</td>\n",
       "      <td>0.062019</td>\n",
       "      <td>...</td>\n",
       "      <td>7.488130</td>\n",
       "      <td>8.622047</td>\n",
       "      <td>2.465118</td>\n",
       "      <td>2.656249</td>\n",
       "      <td>6.584050</td>\n",
       "      <td>6.213031</td>\n",
       "      <td>1.787291</td>\n",
       "      <td>2.043806</td>\n",
       "      <td>0.406808</td>\n",
       "      <td>0.403986</td>\n",
       "    </tr>\n",
       "    <tr>\n",
       "      <th>1</th>\n",
       "      <td>A00024535</td>\n",
       "      <td>V1</td>\n",
       "      <td>1</td>\n",
       "      <td>1700.601735</td>\n",
       "      <td>399.493745</td>\n",
       "      <td>721.128411</td>\n",
       "      <td>579.446172</td>\n",
       "      <td>0.047534</td>\n",
       "      <td>0.044989</td>\n",
       "      <td>0.053391</td>\n",
       "      <td>...</td>\n",
       "      <td>9.022685</td>\n",
       "      <td>8.544778</td>\n",
       "      <td>2.439144</td>\n",
       "      <td>2.533854</td>\n",
       "      <td>6.849889</td>\n",
       "      <td>6.730247</td>\n",
       "      <td>1.945829</td>\n",
       "      <td>2.325559</td>\n",
       "      <td>0.312825</td>\n",
       "      <td>0.426095</td>\n",
       "    </tr>\n",
       "    <tr>\n",
       "      <th>2</th>\n",
       "      <td>CC7563</td>\n",
       "      <td>V1</td>\n",
       "      <td>1</td>\n",
       "      <td>1449.327365</td>\n",
       "      <td>220.825294</td>\n",
       "      <td>661.028439</td>\n",
       "      <td>566.500051</td>\n",
       "      <td>0.118209</td>\n",
       "      <td>0.088380</td>\n",
       "      <td>0.069014</td>\n",
       "      <td>...</td>\n",
       "      <td>4.219249</td>\n",
       "      <td>4.258448</td>\n",
       "      <td>1.394717</td>\n",
       "      <td>1.773845</td>\n",
       "      <td>3.537319</td>\n",
       "      <td>3.663182</td>\n",
       "      <td>1.007794</td>\n",
       "      <td>0.856915</td>\n",
       "      <td>0.162711</td>\n",
       "      <td>0.193604</td>\n",
       "    </tr>\n",
       "    <tr>\n",
       "      <th>3</th>\n",
       "      <td>CC3945</td>\n",
       "      <td>V1</td>\n",
       "      <td>1</td>\n",
       "      <td>1184.699000</td>\n",
       "      <td>201.579922</td>\n",
       "      <td>560.051329</td>\n",
       "      <td>423.016129</td>\n",
       "      <td>0.102882</td>\n",
       "      <td>0.084044</td>\n",
       "      <td>0.044932</td>\n",
       "      <td>...</td>\n",
       "      <td>3.678205</td>\n",
       "      <td>3.383453</td>\n",
       "      <td>1.346163</td>\n",
       "      <td>1.897148</td>\n",
       "      <td>3.623939</td>\n",
       "      <td>3.865042</td>\n",
       "      <td>1.237802</td>\n",
       "      <td>1.206910</td>\n",
       "      <td>0.218570</td>\n",
       "      <td>0.204934</td>\n",
       "    </tr>\n",
       "    <tr>\n",
       "      <th>4</th>\n",
       "      <td>CH8853b</td>\n",
       "      <td>V1</td>\n",
       "      <td>1</td>\n",
       "      <td>1518.198466</td>\n",
       "      <td>291.544632</td>\n",
       "      <td>705.384606</td>\n",
       "      <td>520.807601</td>\n",
       "      <td>0.067550</td>\n",
       "      <td>0.065347</td>\n",
       "      <td>0.047114</td>\n",
       "      <td>...</td>\n",
       "      <td>7.231215</td>\n",
       "      <td>7.043181</td>\n",
       "      <td>2.161728</td>\n",
       "      <td>2.069372</td>\n",
       "      <td>3.730283</td>\n",
       "      <td>4.239948</td>\n",
       "      <td>1.418323</td>\n",
       "      <td>1.626568</td>\n",
       "      <td>0.278396</td>\n",
       "      <td>0.292313</td>\n",
       "    </tr>\n",
       "  </tbody>\n",
       "</table>\n",
       "<p>5 rows × 291 columns</p>\n",
       "</div>"
      ],
      "text/plain": [
       "  participant_id session  run          TIV     CSF_Vol      GM_Vol  \\\n",
       "0        CH7098a      V1    1  1712.357084  375.529152  747.089338   \n",
       "1      A00024535      V1    1  1700.601735  399.493745  721.128411   \n",
       "2         CC7563      V1    1  1449.327365  220.825294  661.028439   \n",
       "3         CC3945      V1    1  1184.699000  201.579922  560.051329   \n",
       "4        CH8853b      V1    1  1518.198466  291.544632  705.384606   \n",
       "\n",
       "       WM_Vol  l3thVen_GM_Vol  r3thVen_GM_Vol  l4thVen_GM_Vol  ...  \\\n",
       "0  586.391159        0.063950        0.058779        0.062019  ...   \n",
       "1  579.446172        0.047534        0.044989        0.053391  ...   \n",
       "2  566.500051        0.118209        0.088380        0.069014  ...   \n",
       "3  423.016129        0.102882        0.084044        0.044932  ...   \n",
       "4  520.807601        0.067550        0.065347        0.047114  ...   \n",
       "\n",
       "   lSupParLo_CSF_Vol  rSupParLo_CSF_Vol  lSupTemGy_CSF_Vol  rSupTemGy_CSF_Vol  \\\n",
       "0           7.488130           8.622047           2.465118           2.656249   \n",
       "1           9.022685           8.544778           2.439144           2.533854   \n",
       "2           4.219249           4.258448           1.394717           1.773845   \n",
       "3           3.678205           3.383453           1.346163           1.897148   \n",
       "4           7.231215           7.043181           2.161728           2.069372   \n",
       "\n",
       "   lTemPo_CSF_Vol  rTemPo_CSF_Vol  lInfFroAngGy_CSF_Vol  rInfFroAngGy_CSF_Vol  \\\n",
       "0        6.584050        6.213031              1.787291              2.043806   \n",
       "1        6.849889        6.730247              1.945829              2.325559   \n",
       "2        3.537319        3.663182              1.007794              0.856915   \n",
       "3        3.623939        3.865042              1.237802              1.206910   \n",
       "4        3.730283        4.239948              1.418323              1.626568   \n",
       "\n",
       "   lTemTraGy_CSF_Vol  rTemTraGy_CSF_Vol  \n",
       "0           0.406808           0.403986  \n",
       "1           0.312825           0.426095  \n",
       "2           0.162711           0.193604  \n",
       "3           0.218570           0.204934  \n",
       "4           0.278396           0.292313  \n",
       "\n",
       "[5 rows x 291 columns]"
      ]
     },
     "execution_count": 12,
     "metadata": {},
     "output_type": "execute_result"
    }
   ],
   "source": [
    "rois_train.head(5)"
   ]
  },
  {
   "cell_type": "code",
   "execution_count": 14,
   "metadata": {},
   "outputs": [
    {
     "data": {
      "text/plain": [
       "513"
      ]
     },
     "execution_count": 14,
     "metadata": {},
     "output_type": "execute_result"
    }
   ],
   "source": [
    "len(rois)"
   ]
  },
  {
   "cell_type": "markdown",
   "metadata": {},
   "source": [
    "## Réduction de dimension"
   ]
  },
  {
   "cell_type": "markdown",
   "metadata": {},
   "source": [
    "Le but est de trouver l'atrophie."
   ]
  },
  {
   "cell_type": "markdown",
   "metadata": {},
   "source": [
    "### Multi-dimensional Scaling (MDS)"
   ]
  },
  {
   "cell_type": "markdown",
   "metadata": {},
   "source": [
    "MDS tente de trouver des projections de dimension K des observation, concaténés dans une matrice de sorte que dij ≈ ‖xi −xj‖ soient aussi proches que possible."
   ]
  },
  {
   "cell_type": "code",
   "execution_count": null,
   "metadata": {},
   "outputs": [],
   "source": [
    "\n",
    "def compute_dissimilarity_matrix(data, metric='euclidean'):\n",
    "    \"\"\"Calcule la matrice de dissimilarité avec une métrique donnée.\"\"\"\n",
    "    return pairwise_distances(data, metric=metric)\n",
    "\n",
    "def apply_mds(dissimilarity_matrix, n_components=2, random_state=40):\n",
    "    \"\"\"Applique MDS sur une matrice de dissimilarité.\"\"\"\n",
    "    mds = MDS(dissimilarity='precomputed', n_components=n_components, random_state=random_state, max_iter=3000, eps=1e-9)\n",
    "    return mds.fit_transform(dissimilarity_matrix)\n",
    "\n",
    "def rotate_and_flip(data, theta_degrees=80):\n",
    "    \"\"\"Applique une rotation et un retournement sur des données en 2D.\"\"\"\n",
    "    theta = theta_degrees * np.pi / 180.0\n",
    "    rot = np.array([[np.cos(theta), -np.sin(theta)],\n",
    "                    [np.sin(theta), np.cos(theta)]])\n",
    "    data_rotated = np.dot(data, rot)\n",
    "    data_rotated[:, 0] *= -1\n",
    "    return data_rotated\n",
    "\n",
    "def plot_2d(data, title=\"Projection des données\", labels=None):\n",
    "    \"\"\"Trace des données en 2D avec des étiquettes facultatives.\"\"\"\n",
    "    plt.figure(figsize=(8, 6))\n",
    "    plt.scatter(data[:, 0], data[:, 1], s=50)\n",
    "    if labels is not None:\n",
    "        for i, label in enumerate(labels):\n",
    "            plt.text(data[i, 0], data[i, 1], label, fontsize=8)\n",
    "    plt.title(title)\n",
    "    plt.xlabel(\"Dimension 1\")\n",
    "    plt.ylabel(\"Dimension 2\")\n",
    "    plt.grid(True)\n",
    "    plt.show()\n",
    "\n",
    "def compute_stress_for_k(dissimilarity_matrix, k_range):\n",
    "    \"\"\"Calcule le stress pour différentes valeurs de k dans MDS.\"\"\"\n",
    "    return [MDS(dissimilarity='precomputed', n_components=k, random_state=42, max_iter=300, eps=1e-9).fit(dissimilarity_matrix).stress_ for k in k_range]\n",
    "\n",
    "def plot_stress(k_range, stress_values):\n",
    "    \"\"\"Trace l'évolution du stress en fonction de k.\"\"\"\n",
    "    plt.figure(figsize=(8, 6))\n",
    "    plt.plot(k_range, stress_values, marker='o', label=\"Stress\")\n",
    "    plt.xlabel(\"Nombre de composantes (k)\")\n",
    "    plt.ylabel(\"Stress\")\n",
    "    plt.title(\"Évolution du stress en fonction du nombre de composantes\")\n",
    "    plt.legend()\n",
    "    plt.grid(True)\n",
    "    plt.show()\n"
   ]
  },
  {
   "cell_type": "code",
   "execution_count": 102,
   "metadata": {},
   "outputs": [
    {
     "name": "stdout",
     "output_type": "stream",
     "text": [
      "Shape de la matrice de dissimilarité : (513, 513)\n"
     ]
    }
   ],
   "source": [
    "D = compute_dissimilarity_matrix(rois_to_reduce_dimension)\n",
    "print(\"Shape de la matrice de dissimilarité :\", D.shape)"
   ]
  },
  {
   "cell_type": "code",
   "execution_count": 104,
   "metadata": {},
   "outputs": [
    {
     "data": {
      "image/png": "[encoded data removed]",
      "text/plain": [
       "<Figure size 576x432 with 1 Axes>"
      ]
     },
     "metadata": {
      "needs_background": "light"
     },
     "output_type": "display_data"
    }
   ],
   "source": [
    "X_mds = apply_mds(D)\n",
    "X_mds_rotated = rotate_and_flip(X_mds)\n",
    "plot_2d(X_mds_rotated, \"MDS avec rotation et retournement\")\n",
    "    "
   ]
  },
  {
   "cell_type": "code",
   "execution_count": 105,
   "metadata": {},
   "outputs": [
    {
     "data": {
      "image/png": "[encoded data removed]",
      "text/plain": [
       "<Figure size 576x432 with 1 Axes>"
      ]
     },
     "metadata": {
      "needs_background": "light"
     },
     "output_type": "display_data"
    }
   ],
   "source": [
    "k_range = range(1, min(5, D.shape[0] - 1))\n",
    "stress = compute_stress_for_k(D, k_range)\n",
    "plot_stress(k_range, stress)\n",
    "    "
   ]
  },
  {
   "cell_type": "markdown",
   "metadata": {},
   "source": [
    "### ISOMAP"
   ]
  },
  {
   "cell_type": "markdown",
   "metadata": {},
   "source": [
    "Isomap est une méthode de réduction de dimensionnalité non linéaire qui combine une procédure de calcul de la matrice de distance avec MDS. Le calcul des distances est basé sur les distances géodésiques évaluées sur le graphique de voisinage"
   ]
  },
  {
   "cell_type": "markdown",
   "metadata": {},
   "source": [
    "Isomap, LLE et les variantes sont les mieux adaptées pour déplier un seul collecteur continu de faible dimension"
   ]
  },
  {
   "cell_type": "code",
   "execution_count": 106,
   "metadata": {},
   "outputs": [],
   "source": [
    "def apply_isomap(data, n_neighbors=10, n_components=2):\n",
    "    \"\"\"Applique Isomap sur les données.\"\"\"\n",
    "    isomap = Isomap(n_neighbors=n_neighbors, n_components=n_components)\n",
    "    return isomap.fit_transform(data)\n"
   ]
  },
  {
   "cell_type": "code",
   "execution_count": 107,
   "metadata": {},
   "outputs": [],
   "source": [
    "X_isomap = apply_isomap(rois_to_reduce_dimension)\n"
   ]
  },
  {
   "cell_type": "markdown",
   "metadata": {},
   "source": [
    "### TSNE"
   ]
  },
  {
   "cell_type": "markdown",
   "metadata": {},
   "source": [
    "t-SNE se concentrera sur la structure locale des données et aura tendance à extraire des groupes locaux d’échantillons groupés. Nous cherchons justement le groupe local où il y aurait de l'atrophie. C'est la méthode retenue."
   ]
  },
  {
   "cell_type": "markdown",
   "metadata": {},
   "source": [
    "SI t-SNE est utilisé à partir de bibliothèques comme sklearn, alors il n'est pas nécessaire de construire manuellement les probabilités gaussiennes entre les paires. Cela est géré automatiquement par l'algorithme\n"
   ]
  },
  {
   "cell_type": "code",
   "execution_count": 124,
   "metadata": {},
   "outputs": [],
   "source": [
    "def apply_tsne(data, n_components=2, perplexity=30, random_state=0):\n",
    "    \"\"\"Applique t-SNE sur les données.\"\"\"\n",
    "    tsne = TSNE(n_components=n_components, init='pca', random_state=random_state, perplexity=perplexity)\n",
    "    return tsne.fit_transform(data)"
   ]
  },
  {
   "cell_type": "code",
   "execution_count": 125,
   "metadata": {},
   "outputs": [
    {
     "name": "stderr",
     "output_type": "stream",
     "text": [
      "c:\\Users\\lucas\\anaconda3\\lib\\site-packages\\sklearn\\manifold\\_t_sne.py:790: FutureWarning: The default learning rate in TSNE will change from 200.0 to 'auto' in 1.2.\n",
      "  warnings.warn(\n",
      "c:\\Users\\lucas\\anaconda3\\lib\\site-packages\\sklearn\\manifold\\_t_sne.py:982: FutureWarning: The PCA initialization in TSNE will change to have the standard deviation of PC1 equal to 1e-4 in 1.2. This will ensure better convergence.\n",
      "  warnings.warn(\n"
     ]
    }
   ],
   "source": [
    "try:\n",
    "     X_tsne = apply_tsne(rois_to_reduce_dimension)\n",
    "except KeyboardInterrupt:\n",
    "    print(\"t-SNE interrompu automatiquement.\")\n",
    "    X_tsne = None\n",
    "    "
   ]
  },
  {
   "cell_type": "markdown",
   "metadata": {},
   "source": [
    "### Comparaison "
   ]
  },
  {
   "cell_type": "code",
   "execution_count": 111,
   "metadata": {},
   "outputs": [],
   "source": [
    "def plot_comparison(data_list, titles, colors=None):\n",
    "    \"\"\"Trace plusieurs projections en parallèle pour comparaison.\"\"\"\n",
    "    fig, axes = plt.subplots(1, len(data_list), figsize=(15, 5))\n",
    "    for i, data in enumerate(data_list):\n",
    "        axes[i].scatter(data[:, 0], data[:, 1], c=colors, cmap=plt.cm.Spectral, s=50)\n",
    "        axes[i].set_title(titles[i])\n",
    "        axes[i].set_xlabel(\"Dimension 1\")\n",
    "        axes[i].set_ylabel(\"Dimension 2\")\n",
    "    plt.tight_layout()\n",
    "    plt.show()"
   ]
  },
  {
   "cell_type": "code",
   "execution_count": 109,
   "metadata": {},
   "outputs": [
    {
     "data": {
      "image/png": "[encoded data removed]",
      "text/plain": [
       "<Figure size 1080x360 with 3 Axes>"
      ]
     },
     "metadata": {
      "needs_background": "light"
     },
     "output_type": "display_data"
    }
   ],
   "source": [
    "if X_tsne is not None:\n",
    "        plot_comparison([X_mds, X_isomap, X_tsne], [\"MDS\", \"Isomap\", \"t-SNE\"])\n",
    "else:\n",
    "        plot_comparison([X_mds, X_isomap], [\"MDS\", \"Isomap\"])"
   ]
  },
  {
   "cell_type": "markdown",
   "metadata": {},
   "source": [
    "t-SNE se concentrera sur la structure locale des données et aura tendance à extraire des groupes locaux d’échantillons groupés. Nous cherchons justement le groupe local où il y aurait de l'atrophie. C'est la méthode retenue."
   ]
  },
  {
   "cell_type": "markdown",
   "metadata": {},
   "source": [
    "# Traitement table"
   ]
  },
  {
   "cell_type": "markdown",
   "metadata": {},
   "source": [
    "## Application de la réduction de dimension"
   ]
  },
  {
   "cell_type": "code",
   "execution_count": 147,
   "metadata": {},
   "outputs": [],
   "source": [
    "rois_to_reduce_dimension = rois.drop(columns=[\"set\"], axis=1).loc[:, 'l3thVen_GM_Vol':]"
   ]
  },
  {
   "cell_type": "code",
   "execution_count": 327,
   "metadata": {},
   "outputs": [
    {
     "name": "stderr",
     "output_type": "stream",
     "text": [
      "c:\\Users\\lucas\\anaconda3\\lib\\site-packages\\sklearn\\manifold\\_t_sne.py:790: FutureWarning: The default learning rate in TSNE will change from 200.0 to 'auto' in 1.2.\n",
      "  warnings.warn(\n",
      "c:\\Users\\lucas\\anaconda3\\lib\\site-packages\\sklearn\\manifold\\_t_sne.py:982: FutureWarning: The PCA initialization in TSNE will change to have the standard deviation of PC1 equal to 1e-4 in 1.2. This will ensure better convergence.\n",
      "  warnings.warn(\n"
     ]
    }
   ],
   "source": [
    "def apply_tsne(data, n_components=2, perplexity=30, random_state=0):\n",
    "    \"\"\"Applique t-SNE sur les données.\"\"\"\n",
    "    tsne = TSNE(n_components=n_components, init='pca', random_state=random_state, perplexity=perplexity)\n",
    "    return tsne.fit_transform(data)\n",
    "\n",
    "try:\n",
    "     X_tsne = apply_tsne(rois_to_reduce_dimension)\n",
    "except KeyboardInterrupt:\n",
    "    print(\"t-SNE interrompu automatiquement.\")\n",
    "    X_tsne = None\n",
    "    \n",
    "IRM_reduced = pd.DataFrame(X_tsne, columns=['IRM_1', 'IRM_2'], index=rois_to_reduce_dimension.index)\n"
   ]
  },
  {
   "cell_type": "code",
   "execution_count": 328,
   "metadata": {},
   "outputs": [],
   "source": [
    "columns_to_remove = rois.drop(columns=[\"set\"], axis=1).loc[:, 'l3thVen_GM_Vol':].columns\n",
    "rois_reduced = rois.drop(columns=columns_to_remove, axis=1)"
   ]
  },
  {
   "cell_type": "code",
   "execution_count": null,
   "metadata": {},
   "outputs": [],
   "source": [
    "rois_with_IRM_reduced = pd.concat([rois_reduced, IRM_reduced], axis=1)\n",
    "\n",
    "# Afficher le résultat final\n",
    "print(rois_with_IRM_reduced.head())"
   ]
  },
  {
   "cell_type": "markdown",
   "metadata": {},
   "source": [
    "## Creation d'une feature sur l'atrophie"
   ]
  },
  {
   "cell_type": "markdown",
   "metadata": {},
   "source": [
    "Objectif : créer un indice du nombre de partie du cerveau particulièrements atrophiés"
   ]
  },
  {
   "cell_type": "code",
   "execution_count": null,
   "metadata": {},
   "outputs": [],
   "source": [
    "columns_a_flaguer = rois.drop(columns=[\"set\"], axis=1).loc[:, 'l3thVen_GM_Vol':].columns\n",
    "\n",
    "def find_atrophies(df, columns, percentile=0.01):\n",
    "    atrophy_flags = pd.DataFrame(index=df.index)  # DataFrame pour stocker les résultats\n",
    "    for col in columns:\n",
    "        # Calculer la valeur correspondant au percentile (1% ou autre)\n",
    "        threshold = df[col].quantile(percentile)\n",
    "        \n",
    "        # Marquer les observations en dessous de ce seuil (1 = atrophie, 0 = pas d'atrophie)\n",
    "        atrophy_flags[col] = (df[col] <= threshold).astype(int)  # Utilisation de 1 pour atrophie et 0 pour pas d'atrophie\n",
    "        \n",
    "    return atrophy_flags\n",
    "\n",
    "atrophy_flags = find_atrophies(rois, columns_a_flaguer, percentile=0.01)\n",
    "rois_atrophy = pd.concat([rois_with_IRM_reduced, atrophy_flags], axis=1)\n",
    "rois_atrophy['num_flags_atrophie'] = atrophy_flags.sum(axis=1)\n",
    "rois_with_IRM_reduced_and_flags = rois_atrophy.drop(columns=columns_a_flaguer,axis=1)"
   ]
  },
  {
   "cell_type": "code",
   "execution_count": null,
   "metadata": {},
   "outputs": [],
   "source": [
    "rois_with_IRM_reduced_and_flags"
   ]
  },
  {
   "cell_type": "code",
   "execution_count": null,
   "metadata": {},
   "outputs": [],
   "source": [
    "print(rois_with_IRM_reduced_and_flags['num_flags_atrophie'].describe())\n",
    "plt.figure(figsize=(8, 6))\n",
    "sns.boxplot(x=rois_traitee['num_flags_atrophie'], color='lightcoral')\n",
    "plt.title('Boxplot du nombre de flags activés')\n",
    "plt.xlabel('Nombre de flags activés')\n",
    "plt.grid(True)\n",
    "plt.show()\n"
   ]
  },
  {
   "cell_type": "markdown",
   "metadata": {},
   "source": [
    "## Traitements préliminaires pour la prévision"
   ]
  },
  {
   "cell_type": "markdown",
   "metadata": {},
   "source": [
    "1. suprimer variable \"session\", \"study\", \"participant_id\"\n",
    "2. créer variable adolescent et jeune adulte \n",
    "3. Binariser la variable \"diagnosis\" : 1 si \"schizophrenia\", 0 sinon\n",
    "4. Encodage de \"site\" en variables indicatrices (dummy variables)\n"
   ]
  },
  {
   "cell_type": "code",
   "execution_count": null,
   "metadata": {},
   "outputs": [],
   "source": [
    "\n",
    "# Supprimer les colonnes \"session\", \"study\", \"participant_id\"\n",
    "participants_traitee= participants.drop(columns=[\"session\", \"study\"])\n",
    "\n",
    "# Créer une nouvelle colonne binaire pour les adolescents et jeunes adultes\n",
    "participants_traitee[\"young_adult\"] = participants_traitee[\"age\"].apply(lambda x: 1 if x <= 25 and  x >= 18 else 0)\n",
    "participants_traitee[\"adolescent\"] = participants_traitee[\"age\"].apply(lambda x: 1 if x < 18 and  x >= 10 else 0)\n",
    "\n",
    "# Binariser la variable \"diagnosis\" : 1 si \"schizophrenia\", 0 sinon\n",
    "participants_traitee[\"schizophrenia\"] = participants_traitee[\"diagnosis\"].apply(lambda x: 1 if x == \"schizophrenia\" else 0)\n",
    "participants_traitee= participants_traitee.drop(columns=[\"diagnosis\"])\n",
    "\n",
    "#Encodage de \"site\" en variables indicatrices (dummy variables)\n",
    "participants_traitee = pd.get_dummies(participants_traitee, columns=[\"site\"], drop_first=True)\n",
    "\n",
    "\n",
    "print(participants_traitee.head())"
   ]
  },
  {
   "cell_type": "code",
   "execution_count": 334,
   "metadata": {},
   "outputs": [
    {
     "name": "stdout",
     "output_type": "stream",
     "text": [
      "  participant_id      IRM_1      IRM_2  num_flags_atrophie\n",
      "0        CH7098a  18.716761   8.060318                   5\n",
      "1      A00024535  12.830871  16.099773                   5\n",
      "2         CC7563   8.595231 -12.277903                   8\n",
      "3         CC3945 -17.882517 -15.052787                  11\n",
      "4        CH8853b  15.068323   5.816479                   6\n"
     ]
    }
   ],
   "source": [
    "rois_with_IRM_reduced_and_flags_traitee= rois_with_IRM_reduced_and_flags.drop(columns=[\"set\",\"TIV\",\"CSF_Vol\",\"GM_Vol\",\"WM_Vol\", \"session\",\"run\"])\n",
    "print(rois_with_IRM_reduced_and_flags_traitee.head())"
   ]
  },
  {
   "cell_type": "markdown",
   "metadata": {},
   "source": [
    "## Ajout des informations traitees des IRM (rois) à la table des participants"
   ]
  },
  {
   "cell_type": "code",
   "execution_count": 335,
   "metadata": {},
   "outputs": [],
   "source": [
    "# Fusionner les DataFrames participants_traitee et rois_with_IRM_reduced_and_flags sur 'participant_id' avec un merge à gauche\n",
    "participants_enrichi_with_rois_traitee = pd.merge(participants_traitee, rois_with_IRM_reduced_and_flags_traitee, on='participant_id', how='left')\n",
    "\n",
    "assert participants_enrichi_with_rois_traitee.shape[0]==513\n"
   ]
  },
  {
   "cell_type": "code",
   "execution_count": 336,
   "metadata": {},
   "outputs": [],
   "source": [
    "participants_enrichi_with_rois_traitee = participants_enrichi_with_rois_traitee.drop(columns=[\"participant_id\"],axis=1)"
   ]
  },
  {
   "cell_type": "markdown",
   "metadata": {},
   "source": [
    "## train et test"
   ]
  },
  {
   "cell_type": "code",
   "execution_count": 337,
   "metadata": {},
   "outputs": [],
   "source": [
    "# Diviser les données en train et test selon la variable \"set\"\n",
    "train_data = participants_enrichi_with_rois_traitee[participants_enrichi_with_rois_traitee[\"set\"] == \"train\"] \n",
    "test_data = participants_enrichi_with_rois_traitee[participants_enrichi_with_rois_traitee[\"set\"] == \"test\"]\n",
    "\n",
    "# Définir les variables explicatives (X) et la cible (y)\n",
    "X_train = train_data.drop(columns=[\"schizophrenia\", \"set\"])  # Supprimez la cible et la colonne \"set\"\n",
    "y_train = train_data[\"schizophrenia\"]\n",
    "\n",
    "X_test = test_data.drop(columns=[\"schizophrenia\", \"set\"])\n",
    "y_test = test_data[\"schizophrenia\"]\n"
   ]
  },
  {
   "cell_type": "markdown",
   "metadata": {},
   "source": [
    "# Modélisation"
   ]
  },
  {
   "cell_type": "markdown",
   "metadata": {},
   "source": [
    "## Modèle Base line"
   ]
  },
  {
   "cell_type": "code",
   "execution_count": 338,
   "metadata": {},
   "outputs": [
    {
     "name": "stdout",
     "output_type": "stream",
     "text": [
      "Optimization terminated successfully.\n",
      "         Current function value: 0.566405\n",
      "         Iterations 7\n",
      "                           Logit Regression Results                           \n",
      "==============================================================================\n",
      "Dep. Variable:          schizophrenia   No. Observations:                  410\n",
      "Model:                          Logit   Df Residuals:                      396\n",
      "Method:                           MLE   Df Model:                           13\n",
      "Date:                Tue, 24 Dec 2024   Pseudo R-squ.:                  0.1788\n",
      "Time:                        00:00:23   Log-Likelihood:                -232.23\n",
      "converged:                       True   LL-Null:                       -282.78\n",
      "Covariance Type:            nonrobust   LLR p-value:                 1.013e-15\n",
      "======================================================================================\n",
      "                         coef    std err          z      P>|z|      [0.025      0.975]\n",
      "--------------------------------------------------------------------------------------\n",
      "const                  6.1952      3.904      1.587      0.113      -1.456      13.847\n",
      "sex                   -1.3505      0.299     -4.514      0.000      -1.937      -0.764\n",
      "age                   -0.0469      0.018     -2.598      0.009      -0.082      -0.012\n",
      "TIV                    0.0677      0.118      0.575      0.565      -0.163       0.299\n",
      "CSF_Vol               -0.0597      0.118     -0.507      0.612      -0.290       0.171\n",
      "GM_Vol                -0.0894      0.118     -0.756      0.450      -0.321       0.142\n",
      "WM_Vol                -0.0562      0.119     -0.474      0.636      -0.289       0.176\n",
      "young_adult            0.5102      0.388      1.314      0.189      -0.251       1.271\n",
      "adolescent            -1.1084      1.210     -0.916      0.360      -3.479       1.263\n",
      "site_NU                0.9810      0.371      2.645      0.008       0.254       1.708\n",
      "site_WUSTL             0.6464      0.299      2.163      0.031       0.061       1.232\n",
      "IRM_1                 -0.0077      0.028     -0.273      0.785      -0.063       0.048\n",
      "IRM_2                 -0.0266      0.031     -0.857      0.391      -0.088       0.034\n",
      "num_flags_atrophie     0.0199      0.020      0.990      0.322      -0.019       0.059\n",
      "======================================================================================\n"
     ]
    }
   ],
   "source": [
    "X_train_with_intercept = sm.add_constant(X_train)\n",
    "logit_model = sm.Logit(y_train, X_train_with_intercept)\n",
    "logit_result = logit_model.fit()\n",
    "print(logit_result.summary())\n"
   ]
  },
  {
   "cell_type": "code",
   "execution_count": 339,
   "metadata": {},
   "outputs": [],
   "source": [
    "\n",
    "# Initialiser et entraîner le modèle\n",
    "model = LogisticRegression(penalty='l2', solver='lbfgs', max_iter=1000, C=0.1)  # L2 est le défaut\n",
    "model.fit(X_train, y_train)\n",
    "\n",
    "y_pred_proba = model.predict_proba(X_test)[:, 1]  "
   ]
  },
  {
   "cell_type": "code",
   "execution_count": 340,
   "metadata": {},
   "outputs": [
    {
     "name": "stdout",
     "output_type": "stream",
     "text": [
      "              Variable  Coefficient  Abs_Coefficient\n",
      "0                  sex    -0.705061         0.705061\n",
      "8              site_NU     0.240816         0.240816\n",
      "9           site_WUSTL     0.231122         0.231122\n",
      "6          young_adult     0.218576         0.218576\n",
      "7           adolescent    -0.086869         0.086869\n",
      "4               GM_Vol    -0.082576         0.082576\n",
      "2                  TIV     0.068925         0.068925\n",
      "5               WM_Vol    -0.057515         0.057515\n",
      "3              CSF_Vol    -0.055851         0.055851\n",
      "11               IRM_2    -0.054767         0.054767\n",
      "1                  age    -0.046975         0.046975\n",
      "10               IRM_1    -0.032410         0.032410\n",
      "12  num_flags_atrophie     0.019608         0.019608\n"
     ]
    }
   ],
   "source": [
    "# Afficher les coefficients du modèle\n",
    "coefficients = model.coef_[0]  \n",
    "variables = X_train.columns  \n",
    "\n",
    "coef_df = pd.DataFrame({\n",
    "    'Variable': variables,\n",
    "    'Coefficient': coefficients\n",
    "})\n",
    "coef_df['Abs_Coefficient'] = coef_df['Coefficient'].abs()\n",
    "coef_df = coef_df.sort_values('Abs_Coefficient', ascending=False)\n",
    "\n",
    "print(coef_df)\n"
   ]
  },
  {
   "cell_type": "code",
   "execution_count": 341,
   "metadata": {},
   "outputs": [
    {
     "name": "stdout",
     "output_type": "stream",
     "text": [
      "RMSE : 0.4608\n",
      "Precision : 0.7045\n",
      "Recall : 0.6458\n",
      "AUC : 0.7231\n"
     ]
    }
   ],
   "source": [
    "# Métriques\n",
    "rmse = np.sqrt(mean_squared_error(y_test, y_pred_proba))\n",
    "print(f\"RMSE : {rmse:.4f}\")\n",
    "\n",
    "precision = precision_score(y_test, model.predict(X_test))\n",
    "print(f\"Precision : {precision:.4f}\")\n",
    "\n",
    "\n",
    "recall = recall_score(y_test, model.predict(X_test))\n",
    "print(f\"Recall : {recall:.4f}\")\n",
    "\n",
    "auc = roc_auc_score(y_test, y_pred_proba)\n",
    "print(f\"AUC : {auc:.4f}\")\n",
    "\n"
   ]
  }
 ],
 "metadata": {
  "kernelspec": {
   "display_name": "base",
   "language": "python",
   "name": "python3"
  },
  "language_info": {
   "codemirror_mode": {
    "name": "ipython",
    "version": 3
   },
   "file_extension": ".py",
   "mimetype": "text/x-python",
   "name": "python",
   "nbconvert_exporter": "python",
   "pygments_lexer": "ipython3",
   "version": "3.9.12"
  }
 },
 "nbformat": 4,
 "nbformat_minor": 2
}
