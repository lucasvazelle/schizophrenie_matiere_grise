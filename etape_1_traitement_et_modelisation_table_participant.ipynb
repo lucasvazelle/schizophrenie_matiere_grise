{
 "cells": [
  {
   "cell_type": "code",
   "execution_count": 21,
   "metadata": {},
   "outputs": [],
   "source": [
    "import pandas as pd\n",
    "import os\n",
    "from sklearn.linear_model import LogisticRegression\n",
    "from sklearn.metrics import mean_squared_error\n",
    "import numpy as np\n",
    "import statsmodels.api as sm\n",
    "from sklearn.metrics import recall_score\n",
    "from sklearn.metrics import roc_auc_score\n",
    "from sklearn.metrics import precision_score\n",
    "import matplotlib.pyplot as plt\n"
   ]
  },
  {
   "cell_type": "code",
   "execution_count": null,
   "metadata": {},
   "outputs": [
    {
     "name": "stdout",
     "output_type": "stream",
     "text": [
      "Requirement already satisfied: pandas in c:\\users\\lucas\\anaconda3\\lib\\site-packages (2.2.3)\n",
      "Requirement already satisfied: numpy in c:\\users\\lucas\\anaconda3\\lib\\site-packages (2.0.2)\n",
      "Requirement already satisfied: scikit-learn in c:\\users\\lucas\\anaconda3\\lib\\site-packages (1.6.0)\n",
      "Requirement already satisfied: statsmodels in c:\\users\\lucas\\anaconda3\\lib\\site-packages (0.13.2)\n",
      "Requirement already satisfied: seaborn in c:\\users\\lucas\\anaconda3\\lib\\site-packages (0.11.2)\n",
      "Requirement already satisfied: python-dateutil>=2.8.2 in c:\\users\\lucas\\anaconda3\\lib\\site-packages (from pandas) (2.8.2)\n",
      "Requirement already satisfied: pytz>=2020.1 in c:\\users\\lucas\\anaconda3\\lib\\site-packages (from pandas) (2021.3)\n",
      "Requirement already satisfied: tzdata>=2022.7 in c:\\users\\lucas\\anaconda3\\lib\\site-packages (from pandas) (2024.2)\n",
      "Requirement already satisfied: threadpoolctl>=3.1.0 in c:\\users\\lucas\\anaconda3\\lib\\site-packages (from scikit-learn) (3.5.0)\n",
      "Requirement already satisfied: joblib>=1.2.0 in c:\\users\\lucas\\anaconda3\\lib\\site-packages (from scikit-learn) (1.4.2)\n",
      "Requirement already satisfied: scipy>=1.6.0 in c:\\users\\lucas\\anaconda3\\lib\\site-packages (from scikit-learn) (1.13.1)\n",
      "Requirement already satisfied: patsy>=0.5.2 in c:\\users\\lucas\\anaconda3\\lib\\site-packages (from statsmodels) (0.5.2)\n",
      "Requirement already satisfied: packaging>=21.3 in c:\\users\\lucas\\anaconda3\\lib\\site-packages (from statsmodels) (21.3)\n",
      "Requirement already satisfied: matplotlib>=2.2 in c:\\users\\lucas\\anaconda3\\lib\\site-packages (from seaborn) (3.5.1)\n",
      "Requirement already satisfied: cycler>=0.10 in c:\\users\\lucas\\anaconda3\\lib\\site-packages (from matplotlib>=2.2->seaborn) (0.11.0)\n",
      "Requirement already satisfied: pyparsing>=2.2.1 in c:\\users\\lucas\\anaconda3\\lib\\site-packages (from matplotlib>=2.2->seaborn) (3.0.4)\n",
      "Requirement already satisfied: fonttools>=4.22.0 in c:\\users\\lucas\\anaconda3\\lib\\site-packages (from matplotlib>=2.2->seaborn) (4.25.0)\n",
      "Requirement already satisfied: pillow>=6.2.0 in c:\\users\\lucas\\anaconda3\\lib\\site-packages (from matplotlib>=2.2->seaborn) (9.0.1)\n",
      "Requirement already satisfied: kiwisolver>=1.0.1 in c:\\users\\lucas\\anaconda3\\lib\\site-packages (from matplotlib>=2.2->seaborn) (1.3.2)\n",
      "Requirement already satisfied: six in c:\\users\\lucas\\anaconda3\\lib\\site-packages (from patsy>=0.5.2->statsmodels) (1.16.0)\n"
     ]
    }
   ],
   "source": [
    "!pip install pandas numpy scikit-learn statsmodels"
   ]
  },
  {
   "cell_type": "markdown",
   "metadata": {},
   "source": [
    "# Import des données"
   ]
  },
  {
   "cell_type": "code",
   "execution_count": 9,
   "metadata": {},
   "outputs": [],
   "source": [
    "\n",
    "participants_train = pd.read_csv(os.path.join(\"data\", \"train_participants.csv\" ))\n",
    "participants_train[\"set\"] = 'train'\n",
    "participants_test = pd.read_csv(os.path.join(\"data\", \"test_participants.csv\" ))\n",
    "participants_test[\"set\"] = 'test'\n",
    "participants = pd.concat([participants_train, participants_test])"
   ]
  },
  {
   "cell_type": "code",
   "execution_count": 31,
   "metadata": {},
   "outputs": [],
   "source": [
    "rois_train = pd.read_csv(os.path.join(\"data\", \"train_rois.csv\" ))\n",
    "rois_train[\"set\"] = 'train'\n",
    "rois_test = pd.read_csv(os.path.join(\"data\", \"test_rois.csv\" ))\n",
    "rois_test[\"set\"] = 'test'\n",
    "rois = pd.concat([rois_train, rois_test])"
   ]
  },
  {
   "cell_type": "code",
   "execution_count": 3,
   "metadata": {},
   "outputs": [],
   "source": [
    "test_vbm = np.load(\"data/test_vbm.npz\")\n"
   ]
  },
  {
   "cell_type": "markdown",
   "metadata": {},
   "source": [
    "# Exploration "
   ]
  },
  {
   "cell_type": "code",
   "execution_count": 9,
   "metadata": {},
   "outputs": [
    {
     "data": {
      "text/html": [
       "<div>\n",
       "<style scoped>\n",
       "    .dataframe tbody tr th:only-of-type {\n",
       "        vertical-align: middle;\n",
       "    }\n",
       "\n",
       "    .dataframe tbody tr th {\n",
       "        vertical-align: top;\n",
       "    }\n",
       "\n",
       "    .dataframe thead th {\n",
       "        text-align: right;\n",
       "    }\n",
       "</style>\n",
       "<table border=\"1\" class=\"dataframe\">\n",
       "  <thead>\n",
       "    <tr style=\"text-align: right;\">\n",
       "      <th></th>\n",
       "      <th>participant_id</th>\n",
       "      <th>session</th>\n",
       "      <th>sex</th>\n",
       "      <th>age</th>\n",
       "      <th>diagnosis</th>\n",
       "      <th>study</th>\n",
       "      <th>site</th>\n",
       "      <th>TIV</th>\n",
       "      <th>CSF_Vol</th>\n",
       "      <th>GM_Vol</th>\n",
       "      <th>WM_Vol</th>\n",
       "      <th>set</th>\n",
       "    </tr>\n",
       "  </thead>\n",
       "  <tbody>\n",
       "    <tr>\n",
       "      <th>0</th>\n",
       "      <td>CH7098a</td>\n",
       "      <td>V1</td>\n",
       "      <td>0.0</td>\n",
       "      <td>20.0</td>\n",
       "      <td>schizophrenia</td>\n",
       "      <td>SCHIZCONNECT-VIP</td>\n",
       "      <td>NU</td>\n",
       "      <td>1712.357084</td>\n",
       "      <td>375.529152</td>\n",
       "      <td>747.089338</td>\n",
       "      <td>586.391159</td>\n",
       "      <td>train</td>\n",
       "    </tr>\n",
       "    <tr>\n",
       "      <th>1</th>\n",
       "      <td>A00024535</td>\n",
       "      <td>V1</td>\n",
       "      <td>0.0</td>\n",
       "      <td>26.0</td>\n",
       "      <td>control</td>\n",
       "      <td>SCHIZCONNECT-VIP</td>\n",
       "      <td>MRN</td>\n",
       "      <td>1700.601735</td>\n",
       "      <td>399.493745</td>\n",
       "      <td>721.128411</td>\n",
       "      <td>579.446172</td>\n",
       "      <td>train</td>\n",
       "    </tr>\n",
       "    <tr>\n",
       "      <th>2</th>\n",
       "      <td>CC7563</td>\n",
       "      <td>V1</td>\n",
       "      <td>1.0</td>\n",
       "      <td>28.0</td>\n",
       "      <td>control</td>\n",
       "      <td>SCHIZCONNECT-VIP</td>\n",
       "      <td>WUSTL</td>\n",
       "      <td>1449.327365</td>\n",
       "      <td>220.825294</td>\n",
       "      <td>661.028439</td>\n",
       "      <td>566.500051</td>\n",
       "      <td>train</td>\n",
       "    </tr>\n",
       "    <tr>\n",
       "      <th>3</th>\n",
       "      <td>CC3945</td>\n",
       "      <td>V1</td>\n",
       "      <td>1.0</td>\n",
       "      <td>21.0</td>\n",
       "      <td>control</td>\n",
       "      <td>SCHIZCONNECT-VIP</td>\n",
       "      <td>WUSTL</td>\n",
       "      <td>1184.699000</td>\n",
       "      <td>201.579922</td>\n",
       "      <td>560.051329</td>\n",
       "      <td>423.016129</td>\n",
       "      <td>train</td>\n",
       "    </tr>\n",
       "    <tr>\n",
       "      <th>4</th>\n",
       "      <td>CH8853b</td>\n",
       "      <td>V1</td>\n",
       "      <td>1.0</td>\n",
       "      <td>21.0</td>\n",
       "      <td>control</td>\n",
       "      <td>SCHIZCONNECT-VIP</td>\n",
       "      <td>NU</td>\n",
       "      <td>1518.198466</td>\n",
       "      <td>291.544632</td>\n",
       "      <td>705.384606</td>\n",
       "      <td>520.807601</td>\n",
       "      <td>train</td>\n",
       "    </tr>\n",
       "    <tr>\n",
       "      <th>...</th>\n",
       "      <td>...</td>\n",
       "      <td>...</td>\n",
       "      <td>...</td>\n",
       "      <td>...</td>\n",
       "      <td>...</td>\n",
       "      <td>...</td>\n",
       "      <td>...</td>\n",
       "      <td>...</td>\n",
       "      <td>...</td>\n",
       "      <td>...</td>\n",
       "      <td>...</td>\n",
       "      <td>...</td>\n",
       "    </tr>\n",
       "    <tr>\n",
       "      <th>98</th>\n",
       "      <td>CH8559b</td>\n",
       "      <td>V1</td>\n",
       "      <td>1.0</td>\n",
       "      <td>25.0</td>\n",
       "      <td>control</td>\n",
       "      <td>SCHIZCONNECT-VIP</td>\n",
       "      <td>NU</td>\n",
       "      <td>1398.385380</td>\n",
       "      <td>230.328038</td>\n",
       "      <td>668.801977</td>\n",
       "      <td>498.221794</td>\n",
       "      <td>test</td>\n",
       "    </tr>\n",
       "    <tr>\n",
       "      <th>99</th>\n",
       "      <td>A00028404</td>\n",
       "      <td>V1</td>\n",
       "      <td>0.0</td>\n",
       "      <td>23.0</td>\n",
       "      <td>schizophrenia</td>\n",
       "      <td>SCHIZCONNECT-VIP</td>\n",
       "      <td>MRN</td>\n",
       "      <td>1498.177272</td>\n",
       "      <td>312.754730</td>\n",
       "      <td>609.245861</td>\n",
       "      <td>575.301971</td>\n",
       "      <td>test</td>\n",
       "    </tr>\n",
       "    <tr>\n",
       "      <th>100</th>\n",
       "      <td>CH7875b</td>\n",
       "      <td>V1</td>\n",
       "      <td>0.0</td>\n",
       "      <td>36.0</td>\n",
       "      <td>schizophrenia</td>\n",
       "      <td>SCHIZCONNECT-VIP</td>\n",
       "      <td>NU</td>\n",
       "      <td>1447.043991</td>\n",
       "      <td>373.211829</td>\n",
       "      <td>584.181460</td>\n",
       "      <td>488.803617</td>\n",
       "      <td>test</td>\n",
       "    </tr>\n",
       "    <tr>\n",
       "      <th>101</th>\n",
       "      <td>CC9704</td>\n",
       "      <td>V1</td>\n",
       "      <td>1.0</td>\n",
       "      <td>15.0</td>\n",
       "      <td>control</td>\n",
       "      <td>SCHIZCONNECT-VIP</td>\n",
       "      <td>WUSTL</td>\n",
       "      <td>1218.159369</td>\n",
       "      <td>196.727247</td>\n",
       "      <td>594.455286</td>\n",
       "      <td>426.742181</td>\n",
       "      <td>test</td>\n",
       "    </tr>\n",
       "    <tr>\n",
       "      <th>102</th>\n",
       "      <td>A00024953</td>\n",
       "      <td>V1</td>\n",
       "      <td>0.0</td>\n",
       "      <td>43.0</td>\n",
       "      <td>schizophrenia</td>\n",
       "      <td>SCHIZCONNECT-VIP</td>\n",
       "      <td>MRN</td>\n",
       "      <td>1658.342873</td>\n",
       "      <td>410.163964</td>\n",
       "      <td>664.093076</td>\n",
       "      <td>582.517719</td>\n",
       "      <td>test</td>\n",
       "    </tr>\n",
       "  </tbody>\n",
       "</table>\n",
       "<p>513 rows × 12 columns</p>\n",
       "</div>"
      ],
      "text/plain": [
       "    participant_id session  sex   age      diagnosis             study   site  \\\n",
       "0          CH7098a      V1  0.0  20.0  schizophrenia  SCHIZCONNECT-VIP     NU   \n",
       "1        A00024535      V1  0.0  26.0        control  SCHIZCONNECT-VIP    MRN   \n",
       "2           CC7563      V1  1.0  28.0        control  SCHIZCONNECT-VIP  WUSTL   \n",
       "3           CC3945      V1  1.0  21.0        control  SCHIZCONNECT-VIP  WUSTL   \n",
       "4          CH8853b      V1  1.0  21.0        control  SCHIZCONNECT-VIP     NU   \n",
       "..             ...     ...  ...   ...            ...               ...    ...   \n",
       "98         CH8559b      V1  1.0  25.0        control  SCHIZCONNECT-VIP     NU   \n",
       "99       A00028404      V1  0.0  23.0  schizophrenia  SCHIZCONNECT-VIP    MRN   \n",
       "100        CH7875b      V1  0.0  36.0  schizophrenia  SCHIZCONNECT-VIP     NU   \n",
       "101         CC9704      V1  1.0  15.0        control  SCHIZCONNECT-VIP  WUSTL   \n",
       "102      A00024953      V1  0.0  43.0  schizophrenia  SCHIZCONNECT-VIP    MRN   \n",
       "\n",
       "             TIV     CSF_Vol      GM_Vol      WM_Vol    set  \n",
       "0    1712.357084  375.529152  747.089338  586.391159  train  \n",
       "1    1700.601735  399.493745  721.128411  579.446172  train  \n",
       "2    1449.327365  220.825294  661.028439  566.500051  train  \n",
       "3    1184.699000  201.579922  560.051329  423.016129  train  \n",
       "4    1518.198466  291.544632  705.384606  520.807601  train  \n",
       "..           ...         ...         ...         ...    ...  \n",
       "98   1398.385380  230.328038  668.801977  498.221794   test  \n",
       "99   1498.177272  312.754730  609.245861  575.301971   test  \n",
       "100  1447.043991  373.211829  584.181460  488.803617   test  \n",
       "101  1218.159369  196.727247  594.455286  426.742181   test  \n",
       "102  1658.342873  410.163964  664.093076  582.517719   test  \n",
       "\n",
       "[513 rows x 12 columns]"
      ]
     },
     "execution_count": 9,
     "metadata": {},
     "output_type": "execute_result"
    }
   ],
   "source": [
    "participants"
   ]
  },
  {
   "cell_type": "code",
   "execution_count": 14,
   "metadata": {},
   "outputs": [
    {
     "data": {
      "text/plain": [
       "participant_id     object\n",
       "session            object\n",
       "sex               float64\n",
       "age               float64\n",
       "diagnosis          object\n",
       "study              object\n",
       "site               object\n",
       "TIV               float64\n",
       "CSF_Vol           float64\n",
       "GM_Vol            float64\n",
       "WM_Vol            float64\n",
       "set                object\n",
       "dtype: object"
      ]
     },
     "execution_count": 14,
     "metadata": {},
     "output_type": "execute_result"
    }
   ],
   "source": [
    "participants.dtypes"
   ]
  },
  {
   "cell_type": "code",
   "execution_count": 17,
   "metadata": {},
   "outputs": [
    {
     "data": {
      "text/html": [
       "<div>\n",
       "<style scoped>\n",
       "    .dataframe tbody tr th:only-of-type {\n",
       "        vertical-align: middle;\n",
       "    }\n",
       "\n",
       "    .dataframe tbody tr th {\n",
       "        vertical-align: top;\n",
       "    }\n",
       "\n",
       "    .dataframe thead th {\n",
       "        text-align: right;\n",
       "    }\n",
       "</style>\n",
       "<table border=\"1\" class=\"dataframe\">\n",
       "  <thead>\n",
       "    <tr style=\"text-align: right;\">\n",
       "      <th></th>\n",
       "      <th></th>\n",
       "      <th>participant_id</th>\n",
       "      <th>session</th>\n",
       "      <th>sex</th>\n",
       "      <th>age</th>\n",
       "      <th>study</th>\n",
       "      <th>TIV</th>\n",
       "      <th>CSF_Vol</th>\n",
       "      <th>GM_Vol</th>\n",
       "      <th>WM_Vol</th>\n",
       "      <th>set</th>\n",
       "    </tr>\n",
       "    <tr>\n",
       "      <th>site</th>\n",
       "      <th>diagnosis</th>\n",
       "      <th></th>\n",
       "      <th></th>\n",
       "      <th></th>\n",
       "      <th></th>\n",
       "      <th></th>\n",
       "      <th></th>\n",
       "      <th></th>\n",
       "      <th></th>\n",
       "      <th></th>\n",
       "      <th></th>\n",
       "    </tr>\n",
       "  </thead>\n",
       "  <tbody>\n",
       "    <tr>\n",
       "      <th rowspan=\"2\" valign=\"top\">MRN</th>\n",
       "      <th>control</th>\n",
       "      <td>87</td>\n",
       "      <td>87</td>\n",
       "      <td>87</td>\n",
       "      <td>87</td>\n",
       "      <td>87</td>\n",
       "      <td>87</td>\n",
       "      <td>87</td>\n",
       "      <td>87</td>\n",
       "      <td>87</td>\n",
       "      <td>87</td>\n",
       "    </tr>\n",
       "    <tr>\n",
       "      <th>schizophrenia</th>\n",
       "      <td>77</td>\n",
       "      <td>77</td>\n",
       "      <td>77</td>\n",
       "      <td>77</td>\n",
       "      <td>77</td>\n",
       "      <td>77</td>\n",
       "      <td>77</td>\n",
       "      <td>77</td>\n",
       "      <td>77</td>\n",
       "      <td>77</td>\n",
       "    </tr>\n",
       "    <tr>\n",
       "      <th rowspan=\"2\" valign=\"top\">NU</th>\n",
       "      <th>control</th>\n",
       "      <td>38</td>\n",
       "      <td>38</td>\n",
       "      <td>38</td>\n",
       "      <td>38</td>\n",
       "      <td>38</td>\n",
       "      <td>38</td>\n",
       "      <td>38</td>\n",
       "      <td>38</td>\n",
       "      <td>38</td>\n",
       "      <td>38</td>\n",
       "    </tr>\n",
       "    <tr>\n",
       "      <th>schizophrenia</th>\n",
       "      <td>42</td>\n",
       "      <td>42</td>\n",
       "      <td>42</td>\n",
       "      <td>42</td>\n",
       "      <td>42</td>\n",
       "      <td>42</td>\n",
       "      <td>42</td>\n",
       "      <td>42</td>\n",
       "      <td>42</td>\n",
       "      <td>42</td>\n",
       "    </tr>\n",
       "    <tr>\n",
       "      <th rowspan=\"2\" valign=\"top\">WUSTL</th>\n",
       "      <th>control</th>\n",
       "      <td>152</td>\n",
       "      <td>152</td>\n",
       "      <td>152</td>\n",
       "      <td>152</td>\n",
       "      <td>152</td>\n",
       "      <td>152</td>\n",
       "      <td>152</td>\n",
       "      <td>152</td>\n",
       "      <td>152</td>\n",
       "      <td>152</td>\n",
       "    </tr>\n",
       "    <tr>\n",
       "      <th>schizophrenia</th>\n",
       "      <td>117</td>\n",
       "      <td>117</td>\n",
       "      <td>117</td>\n",
       "      <td>117</td>\n",
       "      <td>117</td>\n",
       "      <td>117</td>\n",
       "      <td>117</td>\n",
       "      <td>117</td>\n",
       "      <td>117</td>\n",
       "      <td>117</td>\n",
       "    </tr>\n",
       "  </tbody>\n",
       "</table>\n",
       "</div>"
      ],
      "text/plain": [
       "                     participant_id  session  sex  age  study  TIV  CSF_Vol  \\\n",
       "site  diagnosis                                                               \n",
       "MRN   control                    87       87   87   87     87   87       87   \n",
       "      schizophrenia              77       77   77   77     77   77       77   \n",
       "NU    control                    38       38   38   38     38   38       38   \n",
       "      schizophrenia              42       42   42   42     42   42       42   \n",
       "WUSTL control                   152      152  152  152    152  152      152   \n",
       "      schizophrenia             117      117  117  117    117  117      117   \n",
       "\n",
       "                     GM_Vol  WM_Vol  set  \n",
       "site  diagnosis                           \n",
       "MRN   control            87      87   87  \n",
       "      schizophrenia      77      77   77  \n",
       "NU    control            38      38   38  \n",
       "      schizophrenia      42      42   42  \n",
       "WUSTL control           152     152  152  \n",
       "      schizophrenia     117     117  117  "
      ]
     },
     "execution_count": 17,
     "metadata": {},
     "output_type": "execute_result"
    }
   ],
   "source": [
    "participants.groupby([\"site\", \"diagnosis\"]).count()\n"
   ]
  },
  {
   "cell_type": "code",
   "execution_count": 3,
   "metadata": {},
   "outputs": [
    {
     "data": {
      "text/html": [
       "<div>\n",
       "<style scoped>\n",
       "    .dataframe tbody tr th:only-of-type {\n",
       "        vertical-align: middle;\n",
       "    }\n",
       "\n",
       "    .dataframe tbody tr th {\n",
       "        vertical-align: top;\n",
       "    }\n",
       "\n",
       "    .dataframe thead th {\n",
       "        text-align: right;\n",
       "    }\n",
       "</style>\n",
       "<table border=\"1\" class=\"dataframe\">\n",
       "  <thead>\n",
       "    <tr style=\"text-align: right;\">\n",
       "      <th></th>\n",
       "      <th></th>\n",
       "      <th>participant_id</th>\n",
       "      <th>session</th>\n",
       "      <th>sex</th>\n",
       "      <th>age</th>\n",
       "      <th>study</th>\n",
       "      <th>TIV</th>\n",
       "      <th>CSF_Vol</th>\n",
       "      <th>GM_Vol</th>\n",
       "      <th>WM_Vol</th>\n",
       "      <th>set</th>\n",
       "    </tr>\n",
       "    <tr>\n",
       "      <th>site</th>\n",
       "      <th>diagnosis</th>\n",
       "      <th></th>\n",
       "      <th></th>\n",
       "      <th></th>\n",
       "      <th></th>\n",
       "      <th></th>\n",
       "      <th></th>\n",
       "      <th></th>\n",
       "      <th></th>\n",
       "      <th></th>\n",
       "      <th></th>\n",
       "    </tr>\n",
       "  </thead>\n",
       "  <tbody>\n",
       "    <tr>\n",
       "      <th rowspan=\"2\" valign=\"top\">MRN</th>\n",
       "      <th>control</th>\n",
       "      <td>87</td>\n",
       "      <td>87</td>\n",
       "      <td>87</td>\n",
       "      <td>87</td>\n",
       "      <td>87</td>\n",
       "      <td>87</td>\n",
       "      <td>87</td>\n",
       "      <td>87</td>\n",
       "      <td>87</td>\n",
       "      <td>87</td>\n",
       "    </tr>\n",
       "    <tr>\n",
       "      <th>schizophrenia</th>\n",
       "      <td>77</td>\n",
       "      <td>77</td>\n",
       "      <td>77</td>\n",
       "      <td>77</td>\n",
       "      <td>77</td>\n",
       "      <td>77</td>\n",
       "      <td>77</td>\n",
       "      <td>77</td>\n",
       "      <td>77</td>\n",
       "      <td>77</td>\n",
       "    </tr>\n",
       "    <tr>\n",
       "      <th rowspan=\"2\" valign=\"top\">NU</th>\n",
       "      <th>control</th>\n",
       "      <td>38</td>\n",
       "      <td>38</td>\n",
       "      <td>38</td>\n",
       "      <td>38</td>\n",
       "      <td>38</td>\n",
       "      <td>38</td>\n",
       "      <td>38</td>\n",
       "      <td>38</td>\n",
       "      <td>38</td>\n",
       "      <td>38</td>\n",
       "    </tr>\n",
       "    <tr>\n",
       "      <th>schizophrenia</th>\n",
       "      <td>42</td>\n",
       "      <td>42</td>\n",
       "      <td>42</td>\n",
       "      <td>42</td>\n",
       "      <td>42</td>\n",
       "      <td>42</td>\n",
       "      <td>42</td>\n",
       "      <td>42</td>\n",
       "      <td>42</td>\n",
       "      <td>42</td>\n",
       "    </tr>\n",
       "    <tr>\n",
       "      <th rowspan=\"2\" valign=\"top\">WUSTL</th>\n",
       "      <th>control</th>\n",
       "      <td>152</td>\n",
       "      <td>152</td>\n",
       "      <td>152</td>\n",
       "      <td>152</td>\n",
       "      <td>152</td>\n",
       "      <td>152</td>\n",
       "      <td>152</td>\n",
       "      <td>152</td>\n",
       "      <td>152</td>\n",
       "      <td>152</td>\n",
       "    </tr>\n",
       "    <tr>\n",
       "      <th>schizophrenia</th>\n",
       "      <td>117</td>\n",
       "      <td>117</td>\n",
       "      <td>117</td>\n",
       "      <td>117</td>\n",
       "      <td>117</td>\n",
       "      <td>117</td>\n",
       "      <td>117</td>\n",
       "      <td>117</td>\n",
       "      <td>117</td>\n",
       "      <td>117</td>\n",
       "    </tr>\n",
       "  </tbody>\n",
       "</table>\n",
       "</div>"
      ],
      "text/plain": [
       "                     participant_id  session  sex  age  study  TIV  CSF_Vol  \\\n",
       "site  diagnosis                                                               \n",
       "MRN   control                    87       87   87   87     87   87       87   \n",
       "      schizophrenia              77       77   77   77     77   77       77   \n",
       "NU    control                    38       38   38   38     38   38       38   \n",
       "      schizophrenia              42       42   42   42     42   42       42   \n",
       "WUSTL control                   152      152  152  152    152  152      152   \n",
       "      schizophrenia             117      117  117  117    117  117      117   \n",
       "\n",
       "                     GM_Vol  WM_Vol  set  \n",
       "site  diagnosis                           \n",
       "MRN   control            87      87   87  \n",
       "      schizophrenia      77      77   77  \n",
       "NU    control            38      38   38  \n",
       "      schizophrenia      42      42   42  \n",
       "WUSTL control           152     152  152  \n",
       "      schizophrenia     117     117  117  "
      ]
     },
     "execution_count": 3,
     "metadata": {},
     "output_type": "execute_result"
    }
   ],
   "source": [
    "participants.groupby([\"site\", \"diagnosis\"]).count()\n"
   ]
  },
  {
   "cell_type": "markdown",
   "metadata": {},
   "source": [
    "# Description des variables"
   ]
  },
  {
   "cell_type": "code",
   "execution_count": 27,
   "metadata": {},
   "outputs": [
    {
     "data": {
      "text/plain": [
       "Index(['participant_id', 'session', 'sex', 'age', 'diagnosis', 'study', 'site',\n",
       "       'TIV', 'CSF_Vol', 'GM_Vol', 'WM_Vol', 'set'],\n",
       "      dtype='object')"
      ]
     },
     "execution_count": 27,
     "metadata": {},
     "output_type": "execute_result"
    }
   ],
   "source": [
    "participants.columns"
   ]
  },
  {
   "cell_type": "code",
   "execution_count": 30,
   "metadata": {},
   "outputs": [
    {
     "data": {
      "image/png": "[encoded data removed]",
      "text/plain": [
       "<Figure size 720x432 with 1 Axes>"
      ]
     },
     "metadata": {
      "needs_background": "light"
     },
     "output_type": "display_data"
    },
    {
     "data": {
      "image/png": "[encoded data removed]",
      "text/plain": [
       "<Figure size 720x432 with 1 Axes>"
      ]
     },
     "metadata": {
      "needs_background": "light"
     },
     "output_type": "display_data"
    },
    {
     "data": {
      "image/png": "[encoded data removed]",
      "text/plain": [
       "<Figure size 720x432 with 1 Axes>"
      ]
     },
     "metadata": {
      "needs_background": "light"
     },
     "output_type": "display_data"
    },
    {
     "data": {
      "image/png": "[encoded data removed]",
      "text/plain": [
       "<Figure size 720x432 with 1 Axes>"
      ]
     },
     "metadata": {
      "needs_background": "light"
     },
     "output_type": "display_data"
    },
    {
     "data": {
      "image/png": "[encoded data removed]",
      "text/plain": [
       "<Figure size 720x432 with 1 Axes>"
      ]
     },
     "metadata": {
      "needs_background": "light"
     },
     "output_type": "display_data"
    },
    {
     "data": {
      "image/png": "[encoded data removed]",
      "text/plain": [
       "<Figure size 720x432 with 1 Axes>"
      ]
     },
     "metadata": {
      "needs_background": "light"
     },
     "output_type": "display_data"
    },
    {
     "data": {
      "image/png": "[encoded data removed]",
      "text/plain": [
       "<Figure size 720x432 with 1 Axes>"
      ]
     },
     "metadata": {
      "needs_background": "light"
     },
     "output_type": "display_data"
    },
    {
     "data": {
      "image/png": "[encoded data removed]",
      "text/plain": [
       "<Figure size 720x432 with 1 Axes>"
      ]
     },
     "metadata": {
      "needs_background": "light"
     },
     "output_type": "display_data"
    }
   ],
   "source": [
    "df = participants\n",
    "# Liste des colonnes d'intérêt\n",
    "columns_to_plot = [ 'sex', 'age','site', 'TIV', 'CSF_Vol', 'GM_Vol', 'WM_Vol', 'set']\n",
    "\n",
    "# Créer des graphiques pour chaque colonne\n",
    "for col in columns_to_plot:\n",
    "    # Si la colonne est catégorielle (par exemple, 'sex', 'session', 'study', 'site', 'set')\n",
    "    if df[col].dtype == 'object' or df[col].dtype.name == 'category':\n",
    "        plt.figure(figsize=(10,6))\n",
    "        \n",
    "        # Tracer un bar plot pour les variables catégorielles\n",
    "        plt.hist([df[df['diagnosis'] == 'control'][col], df[df['diagnosis'] == 'schizophrenia'][col]], \n",
    "                 bins=len(df[col].unique()), alpha=0.5, label=['Control', 'Schizophrenia'], color=['blue', 'red'])\n",
    "        \n",
    "        # Ajouter des titres et labels\n",
    "        plt.title(f'Distribution de {col} selon le diagnostic')\n",
    "        plt.xlabel(col)\n",
    "        plt.ylabel('Nombre de Participants')\n",
    "        plt.legend(title='Groupes', loc='upper right')\n",
    "        plt.show()\n",
    "\n",
    "    # Si la colonne est numérique (par exemple, 'age', 'TIV', 'CSF_Vol', 'GM_Vol', 'WM_Vol')\n",
    "    elif df[col].dtype in ['int64', 'float64']:\n",
    "        plt.figure(figsize=(10,6))\n",
    "\n",
    "        # Tracer des histogrammes pour les variables numériques\n",
    "        plt.hist(df[df['diagnosis'] == 'control'][col], bins=20, alpha=0.5, label='Control', color='blue')\n",
    "        plt.hist(df[df['diagnosis'] == 'schizophrenia'][col], bins=20, alpha=0.5, label='Schizophrenia', color='red')\n",
    "        \n",
    "        # Ajouter des titres et labels\n",
    "        plt.title(f'Distribution de {col} selon le diagnostic')\n",
    "        plt.xlabel(col)\n",
    "        plt.ylabel('Nombre de Participants')\n",
    "        plt.legend(title='Groupes', loc='upper right')\n",
    "        plt.show()"
   ]
  },
  {
   "cell_type": "markdown",
   "metadata": {},
   "source": [
    "# Traitement de base"
   ]
  },
  {
   "cell_type": "markdown",
   "metadata": {},
   "source": [
    "1. suprimer variable \"session\", \"study\", \"participant_id\"\n",
    "2. créer variable adolescent et jeune adulte \n",
    "3. Binariser la variable \"diagnosis\" : 1 si \"schizophrenia\", 0 sinon\n",
    "4. Encodage de \"site\" en variables indicatrices (dummy variables)\n"
   ]
  },
  {
   "cell_type": "code",
   "execution_count": null,
   "metadata": {},
   "outputs": [
    {
     "name": "stdout",
     "output_type": "stream",
     "text": [
      "   sex   age          TIV     CSF_Vol      GM_Vol      WM_Vol    set  \\\n",
      "0  0.0  20.0  1712.357084  375.529152  747.089338  586.391159  train   \n",
      "1  0.0  26.0  1700.601735  399.493745  721.128411  579.446172  train   \n",
      "2  1.0  28.0  1449.327365  220.825294  661.028439  566.500051  train   \n",
      "3  1.0  21.0  1184.699000  201.579922  560.051329  423.016129  train   \n",
      "4  1.0  21.0  1518.198466  291.544632  705.384606  520.807601  train   \n",
      "\n",
      "   young_adult  adolescent  schizophrenia  site_NU  site_WUSTL  \n",
      "0            1           0              1        1           0  \n",
      "1            0           0              0        0           0  \n",
      "2            0           0              0        0           1  \n",
      "3            1           0              0        0           1  \n",
      "4            1           0              0        1           0  \n"
     ]
    }
   ],
   "source": [
    "\n",
    "# Supprimer les colonnes \"session\", \"study\", \"participant_id\"\n",
    "participants_traitee= participants.drop(columns=[\"session\", \"study\", \"participant_id\"])\n",
    "\n",
    "# Créer une nouvelle colonne binaire pour les adolescents et jeunes adultes\n",
    "participants_traitee[\"young_adult\"] = participants_traitee[\"age\"].apply(lambda x: 1 if x <= 25 and  x >= 18 else 0)\n",
    "participants_traitee[\"adolescent\"] = participants_traitee[\"age\"].apply(lambda x: 1 if x < 18 and  x >= 10 else 0)\n",
    "\n",
    "# Binariser la variable \"diagnosis\" : 1 si \"schizophrenia\", 0 sinon\n",
    "participants_traitee[\"schizophrenia\"] = participants_traitee[\"diagnosis\"].apply(lambda x: 1 if x == \"schizophrenia\" else 0)\n",
    "participants_traitee= participants_traitee.drop(columns=[\"diagnosis\"])\n",
    "\n",
    "#Encodage de \"site\" en variables indicatrices (dummy variables)\n",
    "participants_traitee = pd.get_dummies(participants_traitee, columns=[\"site\"], drop_first=True)\n",
    "\n",
    "\n",
    "print(participants_traitee.head())"
   ]
  },
  {
   "cell_type": "code",
   "execution_count": 34,
   "metadata": {},
   "outputs": [],
   "source": [
    "# Diviser les données en train et test selon la variable \"set\"\n",
    "train_data = participants_traitee[participants_traitee[\"set\"] == \"train\"] \n",
    "test_data = participants_traitee[participants_traitee[\"set\"] == \"test\"]\n",
    "\n",
    "# Définir les variables explicatives (X) et la cible (y)\n",
    "X_train = train_data.drop(columns=[\"schizophrenia\", \"set\"])  # Supprimez la cible et la colonne \"set\"\n",
    "y_train = train_data[\"schizophrenia\"]\n",
    "\n",
    "X_test = test_data.drop(columns=[\"schizophrenia\", \"set\"])\n",
    "y_test = test_data[\"schizophrenia\"]\n"
   ]
  },
  {
   "cell_type": "markdown",
   "metadata": {},
   "source": [
    "# Modèle Base line"
   ]
  },
  {
   "cell_type": "code",
   "execution_count": 66,
   "metadata": {},
   "outputs": [
    {
     "name": "stdout",
     "output_type": "stream",
     "text": [
      "Optimization terminated successfully.\n",
      "         Current function value: 0.562511\n",
      "         Iterations 7\n",
      "                           Logit Regression Results                           \n",
      "==============================================================================\n",
      "Dep. Variable:          schizophrenia   No. Observations:                  410\n",
      "Model:                          Logit   Df Residuals:                      399\n",
      "Method:                           MLE   Df Model:                           10\n",
      "Date:                Thu, 19 Dec 2024   Pseudo R-squ.:                  0.1844\n",
      "Time:                        17:21:53   Log-Likelihood:                -230.63\n",
      "converged:                       True   LL-Null:                       -282.78\n",
      "Covariance Type:            nonrobust   LLR p-value:                 7.490e-18\n",
      "===============================================================================\n",
      "                  coef    std err          z      P>|z|      [0.025      0.975]\n",
      "-------------------------------------------------------------------------------\n",
      "const           8.9125      1.736      5.134      0.000       5.510      12.315\n",
      "sex            -1.3171      0.294     -4.479      0.000      -1.893      -0.741\n",
      "age            -0.0462      0.018     -2.579      0.010      -0.081      -0.011\n",
      "TIV             0.0724      0.117      0.620      0.535      -0.156       0.301\n",
      "CSF_Vol        -0.0690      0.117     -0.591      0.555      -0.298       0.160\n",
      "GM_Vol         -0.0951      0.117     -0.815      0.415      -0.324       0.134\n",
      "WM_Vol         -0.0619      0.118     -0.527      0.598      -0.292       0.168\n",
      "young_adult     0.5347      0.386      1.385      0.166      -0.222       1.291\n",
      "adolescent     -1.7394      1.140     -1.525      0.127      -3.974       0.495\n",
      "site_NU         0.9264      0.363      2.551      0.011       0.215       1.638\n",
      "site_WUSTL      0.6834      0.293      2.334      0.020       0.109       1.257\n",
      "===============================================================================\n"
     ]
    }
   ],
   "source": [
    "X_train_with_intercept = sm.add_constant(X_train)\n",
    "logit_model = sm.Logit(y_train, X_train_with_intercept)\n",
    "logit_result = logit_model.fit()\n",
    "print(logit_result.summary())\n"
   ]
  },
  {
   "cell_type": "code",
   "execution_count": 67,
   "metadata": {},
   "outputs": [],
   "source": [
    "\n",
    "# Initialiser et entraîner le modèle\n",
    "model = LogisticRegression(penalty='l2', solver='lbfgs', max_iter=1000, C=0.1)  # L2 est le défaut\n",
    "model.fit(X_train, y_train)\n",
    "\n",
    "y_pred_proba = model.predict_proba(X_test)[:, 1]  "
   ]
  },
  {
   "cell_type": "code",
   "execution_count": 62,
   "metadata": {},
   "outputs": [
    {
     "name": "stdout",
     "output_type": "stream",
     "text": [
      "      Variable  Coefficient  Abs_Coefficient\n",
      "0          sex    -0.707220         0.707220\n",
      "8      site_NU     0.359698         0.359698\n",
      "9   site_WUSTL     0.328814         0.328814\n",
      "7   adolescent    -0.326312         0.326312\n",
      "6  young_adult     0.291403         0.291403\n",
      "4       GM_Vol    -0.076551         0.076551\n",
      "2          TIV     0.056210         0.056210\n",
      "3      CSF_Vol    -0.052040         0.052040\n",
      "1          age    -0.046650         0.046650\n",
      "5       WM_Vol    -0.045761         0.045761\n"
     ]
    }
   ],
   "source": [
    "# Afficher les coefficients du modèle\n",
    "coefficients = model.coef_[0]  \n",
    "variables = X_train.columns  \n",
    "\n",
    "coef_df = pd.DataFrame({\n",
    "    'Variable': variables,\n",
    "    'Coefficient': coefficients\n",
    "})\n",
    "coef_df['Abs_Coefficient'] = coef_df['Coefficient'].abs()\n",
    "coef_df = coef_df.sort_values('Abs_Coefficient', ascending=False)\n",
    "\n",
    "print(coef_df)\n"
   ]
  },
  {
   "cell_type": "code",
   "execution_count": 63,
   "metadata": {},
   "outputs": [
    {
     "name": "stdout",
     "output_type": "stream",
     "text": [
      "RMSE : 0.4539\n",
      "Precision : 0.7381\n",
      "Recall : 0.6458\n",
      "AUC : 0.7413\n"
     ]
    }
   ],
   "source": [
    "# Métriques\n",
    "rmse = np.sqrt(mean_squared_error(y_test, y_pred_proba))\n",
    "print(f\"RMSE : {rmse:.4f}\")\n",
    "\n",
    "precision = precision_score(y_test, model.predict(X_test))\n",
    "print(f\"Precision : {precision:.4f}\")\n",
    "\n",
    "\n",
    "recall = recall_score(y_test, model.predict(X_test))\n",
    "print(f\"Recall : {recall:.4f}\")\n",
    "\n",
    "auc = roc_auc_score(y_test, y_pred_proba)\n",
    "print(f\"AUC : {auc:.4f}\")\n",
    "\n"
   ]
  }
 ],
 "metadata": {
  "kernelspec": {
   "display_name": "base",
   "language": "python",
   "name": "python3"
  },
  "language_info": {
   "codemirror_mode": {
    "name": "ipython",
    "version": 3
   },
   "file_extension": ".py",
   "mimetype": "text/x-python",
   "name": "python",
   "nbconvert_exporter": "python",
   "pygments_lexer": "ipython3",
   "version": "3.9.12"
  }
 },
 "nbformat": 4,
 "nbformat_minor": 2
}
